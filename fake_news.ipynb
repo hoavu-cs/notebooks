{
 "cells": [
  {
   "cell_type": "code",
   "execution_count": 1,
   "metadata": {},
   "outputs": [],
   "source": [
    "import pandas as pd\n",
    "import numpy as np\n",
    "from sklearn.tree import DecisionTreeClassifier\n",
    "from sklearn.feature_extraction.text import TfidfVectorizer, CountVectorizer\n",
    "from sklearn.ensemble import RandomForestClassifier, AdaBoostClassifier, GradientBoostingClassifier\n",
    "from sklearn.model_selection import KFold\n",
    "from sklearn.preprocessing import LabelEncoder, MultiLabelBinarizer\n",
    "from sklearn.metrics import accuracy_score, confusion_matrix, classification_report, mean_absolute_error, mean_squared_error\n",
    "from xgboost import XGBClassifier, XGBRegressor\n",
    "import warnings"
   ]
  },
  {
   "cell_type": "code",
   "execution_count": 2,
   "metadata": {},
   "outputs": [],
   "source": [
    "from sklearn.exceptions import UndefinedMetricWarning\n",
    "warnings.filterwarnings(\"ignore\", category=UndefinedMetricWarning)\n",
    "\n",
    "def print_regression_report(y_val, y_pred, fold):\n",
    "    print(f'Fold: {fold}')\n",
    "    print('Mean absolute error:', mean_absolute_error(y_val, y_pred))\n",
    "    print('Mean squared error:', mean_squared_error(y_val, y_pred))\n",
    "    print('Root Mean squared error:', np.sqrt(mean_squared_error(y_val, y_pred)))\n",
    "\n",
    "def print_classification_report(y_val, y_pred, fold):\n",
    "    print(f'Fold: {fold}')\n",
    "    print(f'Accuracy Score: {accuracy_score(y_val, y_pred)}')\n",
    "    print(f'Confusion Matrix: \\n {confusion_matrix(y_val, y_pred)}')\n",
    "    print(f'Classification Report: \\n {classification_report(y_val, y_pred)}')\n",
    "\n",
    "def print_multilabel_classification_report(y_val, y_pred, fold):\n",
    "    print(f'Fold: {fold}')\n",
    "    print(f'Accuracy Score: {accuracy_score(y_val, y_pred)}')\n",
    "    print(f'Confusion Matrix: \\n {confusion_matrix(y_val.argmax(axis=1), y_pred.argmax(axis=1))}')\n",
    "    print(f'Classification Report: \\n {classification_report(y_val, y_pred)}')"
   ]
  },
  {
   "cell_type": "code",
   "execution_count": 4,
   "metadata": {},
   "outputs": [
    {
     "name": "stdout",
     "output_type": "stream",
     "text": [
      "   Unnamed: 0                                              title  \\\n",
      "0           0  LAW ENFORCEMENT ON HIGH ALERT Following Threat...   \n",
      "1           2  UNBELIEVABLE! OBAMA’S ATTORNEY GENERAL SAYS MO...   \n",
      "2           3  Bobby Jindal, raised Hindu, uses story of Chri...   \n",
      "3           4  SATAN 2: Russia unvelis an image of its terrif...   \n",
      "4           5  About Time! Christian Group Sues Amazon and SP...   \n",
      "\n",
      "                                                text  label  \n",
      "0  No comment is expected from Barack Obama Membe...      1  \n",
      "1   Now, most of the demonstrators gathered last ...      1  \n",
      "2  A dozen politically active pastors came here f...      0  \n",
      "3  The RS-28 Sarmat missile, dubbed Satan 2, will...      1  \n",
      "4  All we can say on this one is it s about time ...      1  \n"
     ]
    },
    {
     "data": {
      "text/plain": [
       "<Axes: >"
      ]
     },
     "execution_count": 4,
     "metadata": {},
     "output_type": "execute_result"
    },
    {
     "data": {
      "image/png": "[encoded data removed]",
      "text/plain": [
       "<Figure size 640x480 with 1 Axes>"
      ]
     },
     "metadata": {},
     "output_type": "display_data"
    }
   ],
   "source": [
    "data = pd.read_csv('datasets/fake_news/data.csv')\n",
    "data.dropna(inplace=True)\n",
    "data.reset_index(drop=True, inplace=True)\n",
    "print(data.head())\n",
    "\n",
    "rating_counts = data['label'].value_counts()\n",
    "rating_counts.plot(kind='bar')"
   ]
  },
  {
   "cell_type": "code",
   "execution_count": 8,
   "metadata": {},
   "outputs": [
    {
     "name": "stdout",
     "output_type": "stream",
     "text": [
      "Fold: 1\n",
      "Accuracy Score: 0.9834358400894604\n",
      "Confusion Matrix: \n",
      " [[6697  154]\n",
      " [  83 7374]]\n",
      "Classification Report: \n",
      "               precision    recall  f1-score   support\n",
      "\n",
      "           0       0.99      0.98      0.98      6851\n",
      "           1       0.98      0.99      0.98      7457\n",
      "\n",
      "    accuracy                           0.98     14308\n",
      "   macro avg       0.98      0.98      0.98     14308\n",
      "weighted avg       0.98      0.98      0.98     14308\n",
      "\n",
      "Fold: 2\n",
      "Accuracy Score: 0.9811993290466872\n",
      "Confusion Matrix: \n",
      " [[6868  169]\n",
      " [ 100 7171]]\n",
      "Classification Report: \n",
      "               precision    recall  f1-score   support\n",
      "\n",
      "           0       0.99      0.98      0.98      7037\n",
      "           1       0.98      0.99      0.98      7271\n",
      "\n",
      "    accuracy                           0.98     14308\n",
      "   macro avg       0.98      0.98      0.98     14308\n",
      "weighted avg       0.98      0.98      0.98     14308\n",
      "\n",
      "Fold: 3\n",
      "Accuracy Score: 0.980848535681834\n",
      "Confusion Matrix: \n",
      " [[6887  168]\n",
      " [ 106 7146]]\n",
      "Classification Report: \n",
      "               precision    recall  f1-score   support\n",
      "\n",
      "           0       0.98      0.98      0.98      7055\n",
      "           1       0.98      0.99      0.98      7252\n",
      "\n",
      "    accuracy                           0.98     14307\n",
      "   macro avg       0.98      0.98      0.98     14307\n",
      "weighted avg       0.98      0.98      0.98     14307\n",
      "\n",
      "Fold: 4\n",
      "Accuracy Score: 0.9810582232473615\n",
      "Confusion Matrix: \n",
      " [[6896  191]\n",
      " [  80 7140]]\n",
      "Classification Report: \n",
      "               precision    recall  f1-score   support\n",
      "\n",
      "           0       0.99      0.97      0.98      7087\n",
      "           1       0.97      0.99      0.98      7220\n",
      "\n",
      "    accuracy                           0.98     14307\n",
      "   macro avg       0.98      0.98      0.98     14307\n",
      "weighted avg       0.98      0.98      0.98     14307\n",
      "\n",
      "Fold: 5\n",
      "Accuracy Score: 0.9855315579786119\n",
      "Confusion Matrix: \n",
      " [[6854  144]\n",
      " [  63 7246]]\n",
      "Classification Report: \n",
      "               precision    recall  f1-score   support\n",
      "\n",
      "           0       0.99      0.98      0.99      6998\n",
      "           1       0.98      0.99      0.99      7309\n",
      "\n",
      "    accuracy                           0.99     14307\n",
      "   macro avg       0.99      0.99      0.99     14307\n",
      "weighted avg       0.99      0.99      0.99     14307\n",
      "\n"
     ]
    }
   ],
   "source": [
    "X, y = data['title'] + ' ' + data['text'], data['label']\n",
    "\n",
    "NUM_FOLDS = 5\n",
    "MAX_FEATURES = 5000\n",
    "N_GRAMS = 2\n",
    "\n",
    "vectorizer = TfidfVectorizer(max_features=MAX_FEATURES, ngram_range=(1, N_GRAMS), lowercase=False)\n",
    "label_encoder = LabelEncoder()\n",
    "X = vectorizer.fit_transform(X)\n",
    "y = label_encoder.fit_transform(y)\n",
    "\n",
    "fold = 1\n",
    "\n",
    "for train_index, val_index in KFold(NUM_FOLDS).split(X):\n",
    "    X_train, X_val = X[train_index], X[val_index]\n",
    "    y_train, y_val = y[train_index], y[val_index]\n",
    "\n",
    "    model = XGBClassifier(n_jobs=-1, random_state=42, max_depth=4, n_estimators=500, learning_rate=0.3, colsample_bytree=0.2)\n",
    "    model.fit(X_train, y_train)\n",
    "    y_pred = model.predict(X_val)\n",
    "    print_classification_report(y_val, y_pred, fold)\n",
    "    fold += 1\n"
   ]
  }
 ],
 "metadata": {
  "kernelspec": {
   "display_name": "Python 3",
   "language": "python",
   "name": "python3"
  },
  "language_info": {
   "codemirror_mode": {
    "name": "ipython",
    "version": 3
   },
   "file_extension": ".py",
   "mimetype": "text/x-python",
   "name": "python",
   "nbconvert_exporter": "python",
   "pygments_lexer": "ipython3",
   "version": "3.8.2"
  },
  "orig_nbformat": 4
 },
 "nbformat": 4,
 "nbformat_minor": 2
}
