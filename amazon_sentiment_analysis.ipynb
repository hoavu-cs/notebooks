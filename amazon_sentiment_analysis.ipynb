{
 "cells": [
  {
   "cell_type": "code",
   "execution_count": 2,
   "metadata": {},
   "outputs": [],
   "source": [
    "import pandas as pd\n",
    "import numpy as np\n",
    "from sklearn.tree import DecisionTreeClassifier\n",
    "from sklearn.feature_extraction.text import TfidfVectorizer, CountVectorizer\n",
    "from sklearn.ensemble import RandomForestClassifier, AdaBoostClassifier, GradientBoostingClassifier\n",
    "from sklearn.model_selection import KFold,GridSearchCV, RandomizedSearchCV, train_test_split\n",
    "from sklearn.preprocessing import LabelEncoder, MultiLabelBinarizer\n",
    "from sklearn.metrics import accuracy_score, confusion_matrix, classification_report, mean_absolute_error, mean_squared_error\n",
    "from xgboost import XGBClassifier, XGBRegressor\n",
    "import warnings\n",
    "import random\n",
    "import matplotlib.pyplot as plt\n",
    "import joblib\n",
    "import pickle\n",
    "import lightgbm as lgb\n",
    "from tqdm import tqdm\n",
    "import re\n",
    "from itertools import combinations"
   ]
  },
  {
   "cell_type": "code",
   "execution_count": 16,
   "metadata": {},
   "outputs": [
    {
     "name": "stdout",
     "output_type": "stream",
     "text": [
      "This is a sample sentence. Thisis Thisa Thissample Thissentence. isa issample issentence. asample asentence. samplesentence.\n",
      "Here's another one. Here'sanother Here'sone. anotherone.\n",
      "And one more! Andone Andmore! onemore!\n"
     ]
    }
   ],
   "source": [
    "import re\n",
    "from itertools import combinations\n",
    "\n",
    "def generate_word_pairs(input_string):\n",
    "    # Split the input string into sentences using a basic regex pattern\n",
    "    sentences = re.split(r'(?<=[.!?]) +', input_string)\n",
    "    \n",
    "    pairs_list = []\n",
    "    \n",
    "    for sentence in sentences:\n",
    "        # Split the sentence into words\n",
    "        words = sentence.split()\n",
    "        \n",
    "        # Generate all possible pairs of words\n",
    "        word_pairs = list(combinations(words, 2))\n",
    "        \n",
    "        # Append the formatted pairs to the list\n",
    "        formatted_pairs = [f\"{pair[0]}{pair[1]}\" for pair in word_pairs]\n",
    "        pairs_list.append((sentence, formatted_pairs))\n",
    "    \n",
    "    # Generate the final output string\n",
    "    output = []\n",
    "    for sentence, formatted_pairs in pairs_list:\n",
    "        formatted_pairs_str = ' '.join(formatted_pairs)\n",
    "        output.append(f\"{sentence} {formatted_pairs_str}\")\n",
    "    \n",
    "    return '\\n'.join(output)\n",
    "\n",
    "input_text = \"This is a sample sentence. Here's another one. And one more!\"\n",
    "result = generate_word_pairs(input_text)\n",
    "print(result)\n"
   ]
  },
  {
   "cell_type": "markdown",
   "metadata": {},
   "source": [
    "## Some utility functions to print out reports "
   ]
  },
  {
   "cell_type": "code",
   "execution_count": 5,
   "metadata": {},
   "outputs": [],
   "source": [
    "from sklearn.exceptions import UndefinedMetricWarning\n",
    "warnings.filterwarnings(\"ignore\", category=UndefinedMetricWarning)\n",
    "\n",
    "def print_regression_report(y_val, y_pred, fold):\n",
    "    print(f'Fold: {fold}')\n",
    "    print('Mean absolute error:', mean_absolute_error(y_val, y_pred))\n",
    "    print('Mean squared error:', mean_squared_error(y_val, y_pred))\n",
    "    print('Root Mean squared error:', np.sqrt(mean_squared_error(y_val, y_pred)))\n",
    "\n",
    "def print_classification_report(y_val, y_pred, fold):\n",
    "    print(f'Fold: {fold}')\n",
    "    print(f'Accuracy Score: {accuracy_score(y_val, y_pred)}')\n",
    "    print(f'Confusion Matrix: \\n {confusion_matrix(y_val, y_pred)}')\n",
    "    print(f'Classification Report: \\n {classification_report(y_val, y_pred)}')\n",
    "\n",
    "def print_multilabel_classification_report(y_val, y_pred, fold):\n",
    "    print(f'Fold: {fold}')\n",
    "    print(f'Accuracy Score: {accuracy_score(y_val, y_pred)}')\n",
    "    print(f'Confusion Matrix: \\n {confusion_matrix(y_val.argmax(axis=1), y_pred.argmax(axis=1))}')\n",
    "    print(f'Classification Report: \\n {classification_report(y_val, y_pred)}')\n",
    "\n"
   ]
  },
  {
   "cell_type": "markdown",
   "metadata": {},
   "source": [
    "## Data Preview"
   ]
  },
  {
   "cell_type": "code",
   "execution_count": 9,
   "metadata": {},
   "outputs": [
    {
     "name": "stdout",
     "output_type": "stream",
     "text": [
      "   rating                                              title  \\\n",
      "0       2                                           Great CD   \n",
      "1       2  One of the best game music soundtracks - for a...   \n",
      "2       1                   Batteries died within a year ...   \n",
      "3       2              works fine, but Maha Energy is better   \n",
      "4       2                       Great for the non-audiophile   \n",
      "\n",
      "                                              review  \n",
      "0  My lovely Pat has one of the GREAT voices of h...  \n",
      "1  Despite the fact that I have only played a sma...  \n",
      "2  I bought this charger in Jul 2003 and it worke...  \n",
      "3  Check out Maha Energy's website. Their Powerex...  \n",
      "4  Reviewed quite a bit of the combo players and ...  \n",
      "2    200000\n",
      "1    200000\n",
      "Name: rating, dtype: int64\n"
     ]
    },
    {
     "data": {
      "text/plain": [
       "<AxesSubplot:>"
      ]
     },
     "execution_count": 9,
     "metadata": {},
     "output_type": "execute_result"
    },
    {
     "data": {
      "image/png": "[encoded data removed]",
      "text/plain": [
       "<Figure size 640x480 with 1 Axes>"
      ]
     },
     "metadata": {},
     "output_type": "display_data"
    }
   ],
   "source": [
    "# data set preview\n",
    "data = pd.read_csv('datasets/amazon/test.csv', encoding='latin-1', header=None)\n",
    "data.columns = ['rating', 'title', 'review']\n",
    "print(data.head(5))\n",
    "\n",
    "print(data['rating'].value_counts())\n",
    "data['rating'].value_counts().plot(kind='bar')"
   ]
  },
  {
   "cell_type": "code",
   "execution_count": null,
   "metadata": {},
   "outputs": [],
   "source": [
    "label_encoder = LabelEncoder()\n",
    "\n",
    "def read_data(file_path):\n",
    "    data = pd.read_csv(file_path, encoding='latin-1', header=None)\n",
    "    data.columns = ['rating', 'title', 'review']\n",
    "    data.dropna(inplace=True)\n",
    "    \n",
    "    X, y = data['title'].values + data['review'].values, data['rating'].values\n",
    "    y = label_encoder.fit_transform(y)\n",
    "\n",
    "    return X, y, data\n",
    "\n",
    "\n",
    "X, y, data = read_data('datasets/mcdonald_reviews/amazon_test.csv')\n",
    "print(f'size of data: {len(data)}, shape of X: {X.shape}, shape of y: {y.shape}')\n",
    "\n",
    "num_folds = 5\n",
    "kf = KFold(n_splits=num_folds, shuffle=True, random_state=42)\n",
    "fold = 1\n",
    "\n",
    "for train_index, val_index in kf.split(X):\n",
    "    X_train, X_val = X[train_index], X[val_index]\n",
    "    y_train, y_val = y[train_index], y[val_index]\n",
    "\n",
    "    vectorizer = TfidfVectorizer(max_features=10000, ngram_range=(1, 3), lowercase=True)\n",
    "    vectorizer.fit(X_train)\n",
    "\n",
    "    X_train = vectorizer.transform(X_train)\n",
    "    X_val = vectorizer.transform(X_val)\n",
    "\n",
    "    model = XGBClassifier(n_estimators=700, learning_rate=0.2, max_depth=5, colsample_bytree=0.3, n_jobs=-1, random_state=42)\n",
    "    model.fit(X_train, y_train)\n",
    "\n",
    "    y_pred = model.predict(X_val)\n",
    "    print_classification_report(y_val, y_pred, fold)\n",
    "    fold += 1\n",
    "\n",
    "    misclassified = np.where(y_val != y_pred)\n",
    "    misclassified_labels = y_val[misclassified]\n",
    "    misclassified_predictions = y_pred[misclassified]\n",
    "    misclassified_reviews = data['review'].values[misclassified]\n",
    "\n",
    "    indices = random.sample(range(len(misclassified_labels)), 10)\n",
    "\n",
    "    for i in indices:\n",
    "        print(f'Review: {misclassified_reviews[i]}, Actual: {misclassified_labels[i]}, Predicted: {misclassified_predictions[i]}')"
   ]
  },
  {
   "cell_type": "code",
   "execution_count": 9,
   "metadata": {},
   "outputs": [
    {
     "name": "stdout",
     "output_type": "stream",
     "text": [
      "size of data: 299991, shape of X: (299991,), shape of y: (299991,)\n"
     ]
    }
   ],
   "source": [
    "label_encoder = LabelEncoder()\n",
    "\n",
    "def read_data(file_path, nrows=1):\n",
    "    data = pd.read_csv(file_path, encoding='latin-1', header=None, nrows=nrows)\n",
    "    data.columns = ['rating', 'title', 'review']\n",
    "    data.dropna(inplace=True)\n",
    "    \n",
    "    X, y = data['title'].values + data['review'].values, data['rating'].values\n",
    "    y = label_encoder.fit_transform(y)\n",
    "\n",
    "    return X, y, data\n",
    "\n",
    "\n",
    "X, y, data = read_data('datasets/amazon/test.csv', nrows=300000)\n",
    "print(f'size of data: {len(data)}, shape of X: {X.shape}, shape of y: {y.shape}')\n",
    "\n",
    "X_train, X_val, y_train, y_val = train_test_split(X, y, test_size=0.2, random_state=42)\n",
    "\n",
    "vectorizer = TfidfVectorizer(ngram_range=(1, 10), lowercase=True, max_features=20000)\n",
    "vectorizer.fit(X_train)\n",
    "X_train = vectorizer.transform(X_train)\n",
    "\n",
    "model = XGBClassifier(n_estimators=1000, learning_rate=0.1, max_depth=10, colsample_bytree=0.3, n_jobs=-1, random_state=42, subsample=0.1)\n",
    "#model = RandomForestClassifier(n_estimators=10000, max_depth=100, n_jobs=-1, random_state=42, max_samples=0.8, max_features=0.8)\n",
    "model.fit(X_train, y_train)\n",
    "\n",
    "X_val = vectorizer.transform(X_val)\n",
    "y_pred = model.predict(X_val)\n",
    "\n",
    "print_classification_report(y_val, y_pred, 1)\n",
    "\n",
    "misclassified = np.where(y_val != y_pred)\n",
    "misclassified_labels = y_val[misclassified]\n",
    "misclassified_predictions = y_pred[misclassified]\n",
    "misclassified_reviews = data['review'].values[misclassified]\n",
    "\n",
    "indices = random.sample(range(len(misclassified_labels)), 10)\n",
    "\n",
    "for i in indices:\n",
    "    print(f'Review: {misclassified_reviews[i]}, Actual: {misclassified_labels[i]}, Predicted: {misclassified_predictions[i]}')"
   ]
  },
  {
   "cell_type": "code",
   "execution_count": 4,
   "metadata": {},
   "outputs": [
    {
     "data": {
      "text/plain": [
       "['vectorizer_amz_2.joblib']"
      ]
     },
     "execution_count": 4,
     "metadata": {},
     "output_type": "execute_result"
    }
   ],
   "source": [
    "model.save_model('sentiment_analysis_amz_2.model')\n",
    "joblib.dump(vectorizer, 'vectorizer_amz_2.joblib', compress=True)"
   ]
  },
  {
   "cell_type": "code",
   "execution_count": 44,
   "metadata": {},
   "outputs": [
    {
     "name": "stdout",
     "output_type": "stream",
     "text": [
      "shape of X: (15999,), shape of y: (15999,)\n",
      "start training\n"
     ]
    },
    {
     "name": "stderr",
     "output_type": "stream",
     "text": [
      "c:\\Users\\hvutr\\AppData\\Local\\Programs\\Python\\Python310\\lib\\site-packages\\lightgbm\\engine.py:172: UserWarning: Found `n_estimators` in params. Will use it instead of argument\n",
      "  _log_warning(f\"Found `{alias}` in params. Will use it instead of argument\")\n"
     ]
    },
    {
     "name": "stdout",
     "output_type": "stream",
     "text": [
      "Fold: 1\n",
      "Accuracy Score: 0.86125\n",
      "Confusion Matrix: \n",
      " [[1707  295]\n",
      " [ 260 1738]]\n",
      "Classification Report: \n",
      "               precision    recall  f1-score   support\n",
      "\n",
      "           0       0.87      0.85      0.86      2002\n",
      "           1       0.85      0.87      0.86      1998\n",
      "\n",
      "    accuracy                           0.86      4000\n",
      "   macro avg       0.86      0.86      0.86      4000\n",
      "weighted avg       0.86      0.86      0.86      4000\n",
      "\n",
      "Review: edith has created a venue for herself to exorcise melancholic memories with painful melodies. there are no disguises on this collection. lonesome guitars and medicinal piano radiate the mood of broken spirits. she writes all her own songs. these ballads are definite reminders of those unbearable moments we all have to live. they are all gray sky, secluded,isolating tunes. i envision a ironical pace. i thought she was from chicago, millions and millions of people, and she sings stark loneliness, Actual: 0, Predicted: 1.0\n",
      "Review: the story line is perfect the cast and choreogophy are great but the dvd's suck out of the first 20 chapters only 5 have had no problems and i lost have of the story line, Actual: 1, Predicted: 0.0\n",
      "Review: R kelly's carrer is full of contradictions. On one song he's singing about how good GOD is, then the next song he's Feeling on ya Boody. R kelly has so much potential to be a respectful artist. But if he continues on the corse he is now, the qualtiy of his character will continue to be decline along with his music., Actual: 1, Predicted: 0.0\n",
      "Review: This is the WORST movie I have EVER seen. We had to see it in our class one day. The teacher said that I HAD to watch. Reluctantly, I sat down. I hated it. She fast forwarded it to the middle so we could see the end. Even that part was bad, and I didn't see all of it! I'd give it -10 stars for horrible scenes, cruelty to animals, and lack of trying. DON'T SEE IT EVER!!!, Actual: 1, Predicted: 0.0\n",
      "Review: My first foray into the novels of Patricia Cornwell has left me impressed. The characters were intense and realistic. My only concern is that the \"evil\" Temple Gault at the end of the novel is as vague as he was in the beginning. Why did he decide to trail and give \"gifts\" to Dr. Scarpetta? Needless to say, I will be reading more of Cornwell's books, especially if they are at all like this novel., Actual: 1, Predicted: 0.0\n",
      "Review: This is the first book I've read by Meg Wolitzer, and overall, I enjoyed it. The plot brings three just-turned-thirty friends into close and prolonged contact with the 50-something mother of their recently deceased friend. Wolitzer is able to pull this off because she obviously likes all of her characters, their various flaws notwithstanding. She also has the type of sense of humor that allows her to ligthen things up when emotions and events threaten to drag things down too much. The strongest character is the Mother, Natalie, who is one of the more appealing baby boomers in recent fiction, and by no means a mere caricature. My only objection is that several secondary characters are not as clearly drawn as the main ones. But in fairness to Wolitzer, in most novels the reader would not even care about knowing more about such relatively minor characters, and it's only her gift for making you care that makes this an issue at all., Actual: 1, Predicted: 0.0\n",
      "Review: The video kept timing out. The screen would go black or multi color. I had to wait for the movie to restart every 10 minutes, Actual: 1, Predicted: 0.0\n",
      "Review: this was the worst example of american literature ever published. warren feels the need to describe such trivial objects as doorknobs, the color of the street, or smell of the rain. is this really needed? this book could have easily been condensed into one half its size. the author's continuing mention of \"The Great Twitch\" has no impact on the average person's life. this book is a waste of your time, don't read it!, Actual: 0, Predicted: 1.0\n",
      "Review: Camus's novel truley symbolizes the coldness of modern life. He creates one of the great literary characters of all time and paints a powerful image of mankind's true state. The novel makes the reader question their own lapse into the existentialist circle and why it happens. In short, it is one of the classics., Actual: 0, Predicted: 1.0\n",
      "Review: Ordered it. It arrived quickly. It is used and is as described . I'll update whenever I read it. d, Actual: 0, Predicted: 1.0\n"
     ]
    }
   ],
   "source": [
    "label_encoder = LabelEncoder()\n",
    "\n",
    "def read_data(file_path, nrows=1):\n",
    "    data = pd.read_csv(file_path, encoding='latin-1', header=None, nrows=nrows)\n",
    "    data.columns = ['rating', 'title', 'review']\n",
    "    data.dropna(inplace=True)\n",
    "    \n",
    "    X, y = data['title'].values + data['review'].values, data['rating'].values\n",
    "    y = label_encoder.fit_transform(y)\n",
    "\n",
    "    return X, y, data\n",
    "\n",
    "sample_size = 20000\n",
    "X, y, data = read_data('datasets/amazon/test.csv', nrows=sample_size)\n",
    "# indices = random.sample(range(len(y)), sample_size)\n",
    "# X, y = X[indices], y[indices]\n",
    "\n",
    "\n",
    "X_train, X_val, y_train, y_val = train_test_split(X, y, test_size=0.2, random_state=42)\n",
    "print(f'shape of X: {X_train.shape}, shape of y: {y_train.shape}')\n",
    "\n",
    "# for i in tqdm(range(len(X_train)), desc=\"Processing\"):\n",
    "#     X_train[i] = generate_word_pairs(X_train[i])\n",
    "\n",
    "print('start training')\n",
    "stop_words = [\n",
    "    \"the\", \"and\", \"to\", \"of\", \"it\",\n",
    "    \"in\", \"or\", \"is\", \"an\", \"as\",\n",
    "    \"a\", \"on\", \"with\", \"this\", \"for\",\n",
    "    \"but\", \"at\", \"by\", \"from\", \"not\",\n",
    "    \"be\", \"that\", \"you\", \"he\", \"she\",\n",
    "    \"we\", \"do\", \"if\", \"are\", \"have\",\n",
    "    \"will\", \"so\", \"all\", \"my\", \"there\",\n",
    "    \"their\", \"what\", \"which\", \"out\", \"up\",\n",
    "    \"who\", \"get\", \"would\", \"was\", \"they\",\n",
    "    \"your\", \"his\", \"her\", \"can\", \"has\",\n",
    "    \"him\", \"could\", \"did\", \"us\", \"our\"\n",
    "]\n",
    "\n",
    "\n",
    "\n",
    "vectorizer = TfidfVectorizer(ngram_range=(1, 5), lowercase=True, max_features=15000, stop_words=stop_words)\n",
    "vectorizer.fit(X_train)\n",
    "X_train = vectorizer.transform(X_train)\n",
    "\n",
    "\n",
    "params = {\n",
    "    'objective': 'binary',\n",
    "    'boosting_type': 'gbdt',\n",
    "    'learning_rate': 0.2,\n",
    "    'max_depth': 10,\n",
    "    'n_estimators': 400,\n",
    "    'subsample': 0.7,\n",
    "    'verbose': -1,\n",
    "}\n",
    "\n",
    "train_data = lgb.Dataset(X_train, label=y_train)\n",
    "test_data = lgb.Dataset(X_val, label=y_val)\n",
    "\n",
    "model = lgb.train(params, train_data)\n",
    "\n",
    "X_val = vectorizer.transform(X_val)\n",
    "y_pred = model.predict(X_val, num_iteration=model.best_iteration)\n",
    "y_pred = np.round(y_pred)\n",
    "\n",
    "print_classification_report(y_val, y_pred, 1)\n",
    "\n",
    "misclassified = np.where(y_val != y_pred)\n",
    "misclassified_labels = y_val[misclassified]\n",
    "misclassified_predictions = y_pred[misclassified]\n",
    "misclassified_reviews = data['review'].values[misclassified]\n",
    "\n",
    "indices = random.sample(range(len(misclassified_labels)), 10)\n",
    "\n",
    "for i in indices:\n",
    "    print(f'Review: {misclassified_reviews[i]}, Actual: {misclassified_labels[i]}, Predicted: {misclassified_predictions[i]}')"
   ]
  },
  {
   "cell_type": "code",
   "execution_count": 45,
   "metadata": {},
   "outputs": [
    {
     "data": {
      "text/plain": [
       "['vectorizer_amz_2.joblib']"
      ]
     },
     "execution_count": 45,
     "metadata": {},
     "output_type": "execute_result"
    }
   ],
   "source": [
    "model.save_model('sentiment_analysis_amz_2.model')\n",
    "joblib.dump(vectorizer, 'vectorizer_amz_2.joblib', compress=True)"
   ]
  }
 ],
 "metadata": {
  "kernelspec": {
   "display_name": "Python 3",
   "language": "python",
   "name": "python3"
  },
  "language_info": {
   "codemirror_mode": {
    "name": "ipython",
    "version": 3
   },
   "file_extension": ".py",
   "mimetype": "text/x-python",
   "name": "python",
   "nbconvert_exporter": "python",
   "pygments_lexer": "ipython3",
   "version": "3.10.6"
  },
  "orig_nbformat": 4
 },
 "nbformat": 4,
 "nbformat_minor": 2
}
