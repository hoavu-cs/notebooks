{
 "cells": [
  {
   "cell_type": "code",
   "execution_count": 1,
   "metadata": {},
   "outputs": [],
   "source": [
    "import pandas as pd\n",
    "import numpy as np\n",
    "from sklearn.tree import DecisionTreeClassifier\n",
    "from sklearn.feature_extraction.text import TfidfVectorizer, CountVectorizer\n",
    "from sklearn.ensemble import RandomForestClassifier, AdaBoostClassifier, GradientBoostingClassifier\n",
    "from sklearn.model_selection import KFold,GridSearchCV, RandomizedSearchCV, train_test_split\n",
    "from sklearn.preprocessing import LabelEncoder, MultiLabelBinarizer\n",
    "from sklearn.metrics import accuracy_score, confusion_matrix, classification_report, mean_absolute_error, mean_squared_error\n",
    "from xgboost import XGBClassifier, XGBRegressor\n",
    "import warnings\n",
    "import random\n",
    "import matplotlib.pyplot as plt\n"
   ]
  },
  {
   "cell_type": "markdown",
   "metadata": {},
   "source": [
    "## Some utility functions to print out reports "
   ]
  },
  {
   "cell_type": "code",
   "execution_count": 3,
   "metadata": {},
   "outputs": [],
   "source": [
    "from sklearn.exceptions import UndefinedMetricWarning\n",
    "warnings.filterwarnings(\"ignore\", category=UndefinedMetricWarning)\n",
    "\n",
    "def print_regression_report(y_val, y_pred, fold):\n",
    "    print(f'Fold: {fold}')\n",
    "    print('Mean absolute error:', mean_absolute_error(y_val, y_pred))\n",
    "    print('Mean squared error:', mean_squared_error(y_val, y_pred))\n",
    "    print('Root Mean squared error:', np.sqrt(mean_squared_error(y_val, y_pred)))\n",
    "\n",
    "def print_classification_report(y_val, y_pred, fold):\n",
    "    print(f'Fold: {fold}')\n",
    "    print(f'Accuracy Score: {accuracy_score(y_val, y_pred)}')\n",
    "    print(f'Confusion Matrix: \\n {confusion_matrix(y_val, y_pred)}')\n",
    "    print(f'Classification Report: \\n {classification_report(y_val, y_pred)}')\n",
    "\n",
    "def print_multilabel_classification_report(y_val, y_pred, fold):\n",
    "    print(f'Fold: {fold}')\n",
    "    print(f'Accuracy Score: {accuracy_score(y_val, y_pred)}')\n",
    "    print(f'Confusion Matrix: \\n {confusion_matrix(y_val.argmax(axis=1), y_pred.argmax(axis=1))}')\n",
    "    print(f'Classification Report: \\n {classification_report(y_val, y_pred)}')\n",
    "\n"
   ]
  },
  {
   "cell_type": "markdown",
   "metadata": {},
   "source": [
    "## Data Preview"
   ]
  },
  {
   "cell_type": "code",
   "execution_count": 4,
   "metadata": {},
   "outputs": [
    {
     "name": "stdout",
     "output_type": "stream",
     "text": [
      "   rating                                              title  \\\n",
      "0       2                                           Great CD   \n",
      "1       2  One of the best game music soundtracks - for a...   \n",
      "2       1                   Batteries died within a year ...   \n",
      "3       2              works fine, but Maha Energy is better   \n",
      "4       2                       Great for the non-audiophile   \n",
      "\n",
      "                                              review  \n",
      "0  My lovely Pat has one of the GREAT voices of h...  \n",
      "1  Despite the fact that I have only played a sma...  \n",
      "2  I bought this charger in Jul 2003 and it worke...  \n",
      "3  Check out Maha Energy's website. Their Powerex...  \n",
      "4  Reviewed quite a bit of the combo players and ...  \n",
      "2    200000\n",
      "1    200000\n",
      "Name: rating, dtype: int64\n"
     ]
    },
    {
     "data": {
      "text/plain": [
       "<AxesSubplot:>"
      ]
     },
     "execution_count": 4,
     "metadata": {},
     "output_type": "execute_result"
    },
    {
     "data": {
      "image/png": "[encoded data removed]",
      "text/plain": [
       "<Figure size 640x480 with 1 Axes>"
      ]
     },
     "metadata": {},
     "output_type": "display_data"
    }
   ],
   "source": [
    "# data set preview\n",
    "data = pd.read_csv('datasets/mcdonald_reviews/amazon_test.csv', encoding='latin-1', header=None)\n",
    "data.columns = ['rating', 'title', 'review']\n",
    "print(data.head(5))\n",
    "\n",
    "print(data['rating'].value_counts())\n",
    "data['rating'].value_counts().plot(kind='bar')"
   ]
  },
  {
   "cell_type": "code",
   "execution_count": null,
   "metadata": {},
   "outputs": [],
   "source": [
    "label_encoder = LabelEncoder()\n",
    "\n",
    "def read_data(file_path):\n",
    "    data = pd.read_csv(file_path, encoding='latin-1', header=None)\n",
    "    data.columns = ['rating', 'title', 'review']\n",
    "    data.dropna(inplace=True)\n",
    "    \n",
    "    X, y = data['title'].values + data['review'].values, data['rating'].values\n",
    "    y = label_encoder.fit_transform(y)\n",
    "\n",
    "    return X, y, data\n",
    "\n",
    "\n",
    "X, y, data = read_data('datasets/mcdonald_reviews/amazon_test.csv')\n",
    "print(f'size of data: {len(data)}, shape of X: {X.shape}, shape of y: {y.shape}')\n",
    "\n",
    "num_folds = 5\n",
    "kf = KFold(n_splits=num_folds, shuffle=True, random_state=42)\n",
    "fold = 1\n",
    "\n",
    "for train_index, val_index in kf.split(X):\n",
    "    X_train, X_val = X[train_index], X[val_index]\n",
    "    y_train, y_val = y[train_index], y[val_index]\n",
    "\n",
    "    vectorizer = TfidfVectorizer(max_features=10000, ngram_range=(1, 3), lowercase=True)\n",
    "    vectorizer.fit(X_train)\n",
    "\n",
    "    X_train = vectorizer.transform(X_train)\n",
    "    X_val = vectorizer.transform(X_val)\n",
    "\n",
    "    model = XGBClassifier(n_estimators=700, learning_rate=0.2, max_depth=5, colsample_bytree=0.3, n_jobs=-1, random_state=42)\n",
    "    model.fit(X_train, y_train)\n",
    "\n",
    "    y_pred = model.predict(X_val)\n",
    "    print_classification_report(y_val, y_pred, fold)\n",
    "    fold += 1\n",
    "\n",
    "    misclassified = np.where(y_val != y_pred)\n",
    "    misclassified_labels = y_val[misclassified]\n",
    "    misclassified_predictions = y_pred[misclassified]\n",
    "    misclassified_reviews = data['review'].values[misclassified]\n",
    "\n",
    "    indices = random.sample(range(len(misclassified_labels)), 10)\n",
    "\n",
    "    for i in indices:\n",
    "        print(f'Review: {misclassified_reviews[i]}, Actual: {misclassified_labels[i]}, Predicted: {misclassified_predictions[i]}')"
   ]
  },
  {
   "cell_type": "code",
   "execution_count": 12,
   "metadata": {},
   "outputs": [
    {
     "name": "stdout",
     "output_type": "stream",
     "text": [
      "size of data: 399990, shape of X: (399990,), shape of y: (399990,)\n",
      "Fold: 1\n",
      "Accuracy Score: 0.9004100102502562\n",
      "Confusion Matrix: \n",
      " [[35824  4101]\n",
      " [ 3866 36207]]\n",
      "Classification Report: \n",
      "               precision    recall  f1-score   support\n",
      "\n",
      "           0       0.90      0.90      0.90     39925\n",
      "           1       0.90      0.90      0.90     40073\n",
      "\n",
      "    accuracy                           0.90     79998\n",
      "   macro avg       0.90      0.90      0.90     79998\n",
      "weighted avg       0.90      0.90      0.90     79998\n",
      "\n",
      "Review: I absolutely adore these vitamins. Liked them so much I bought the child version for my son.Since I have been taking them I do not have the urge to drink coffee- of course the down side to that is fighting thru the ensuing withdrawal symptoms. Otherwise I feel great and maintain a steady energy level all day. The taste isn't all that pleasant sometimes but it's mostly a kinda vitaminy aftertaste and is hit or miss. Totally tolerable.I noticed no one mentioned the effect Source of Life has in the digestive tract: these keep me on the go. Hopefully that isnt tmi but its important to know. If I eat an excessive amt of junk food, the next day will not be comfortable after i've downed my source of life dose. You'd think that would keep me off chips n brownies right?, Actual: 0, Predicted: 1\n",
      "Review: These are good looking, functional goggles at a decent price. Goggles are such an indidualistic thing, it is hard to say that you should all buy them. I will say my kid likes them and wears them. regularly with no complaints., Actual: 1, Predicted: 0\n",
      "Review: PJ Harvey came into her own of her third release, the guttural To Bring You My Love. The title track starts the album off with a reverberated, fuzz guitar attack that sets the tone for the album. It is a personal, fierce song and is brilliant. \"Meet Ze Monster\" follows with the same piercing effect. \"C'mon Billy\" and \"Long Snake Moan\" are top-notch tracks as well. Ms. Harvey summons up the ghosts of Marianne Faithful & Patti Smith with deeply personal and feral songs that rage with an underbelly of understanding & softness., Actual: 1, Predicted: 0\n",
      "Review: After second time going to the beach U-Lock stopped working, with luck managed to unlock after almost half an hour struggle, it useless now. Do not buy it!, Actual: 0, Predicted: 1\n",
      "Review: This was the first book by John Saul and the first horror story I ever read. I was probably 11, we'll not discuss how many years ago that way, but I was on vacaation which entailed a long long car ride, 12 hours to be exact. My parents kept looking back into the backseat to make sure I was still there because i was enthralled by this book. The story, the horror, everything about it grabbed me and would not let go. My 11 year old mind soaked it up and hasn't forgotten it in oh these many years. If you have a teen who seems to like horror movies and scary type stories, this is the perfect story to cut their teeth on. It's scary, without being gory, but a story to keep them reading. I highly recommend., Actual: 0, Predicted: 1\n",
      "Review: Do not purchase this mat. Not until it arrives and you are able to read the directions wrapped around it do you learn that you must wait until water is in the tub to put in the mat, at which point it is virtually impossible to get the mat to flatten out. Think about trying to wrestle an inflatable object under water. After some pushing and shoving, I found the mat partially stuck with its little suction cups but not stuck flat; by then it was stuck too hard to get out but not stuck flat. Thus, I took my bath lying on a surface even more uncomfortable than the bare tub. The worst came when I stood up after the water ran out and found the mat actually MORE SLIPPERY than my bare tub.Griptex Comfort 17 by 36-Inch Bath Mat, Blue, Actual: 1, Predicted: 0\n",
      "Review: My rating of this movie is really zero stars. The synopsis on the back cover of this movie in no way prepared me for the journey into the world of those who find extreme graphic violence erotic. Even the edited scenes of the anonymous young girl who was butchered and murdered on film to fulfil a sick, twisted and perverted man's sexual fantasy were more information than I needed or wanted to know. I'm sorry I rented this movie!, Actual: 1, Predicted: 0\n",
      "Review: I highly reccommend G.A. Henty's In Freedom's cause to anyone age 10 and up who likes to read historical fiction. William Wallace, Robert the Bruce, and a ficticious charactor, Archibald Forbes, take the leading roles in fighting battles to stop the powerful English from taking over Scotland. This book is very closely based on factual hiistorical events. When England is very close to taking over scotland, William Wallace and Robert the Bruce fight overwhelming odds to get back their homeland., Actual: 0, Predicted: 1\n",
      "Review: John Kennedy Toole presents an eloquent, vibrant look into the life of a consummate educated slacker. The protagonist moves through the pages with nonchalance and the reader vicariously thrills to a life that says, \"I am not putting up with hassles.\"We get a real sense of the experientially rich city that is New Orleans, but with the amazingly diverse set of characters, it is fun to read in a city like New York.It is definitely a tragedy to see yet another example of an artist with a real grasp of living lose his life so young.Toole's legacy - this dynamic comedy opus - will remain., Actual: 0, Predicted: 1\n",
      "Review: My son received this as a first birthday gift, and at first, it scared the daylights out of him. Since becoming familiar with it, however, he has LOVED it. It has taught him a new \"dance step\" and how to sing along (well, cluck along!). It is very durable, as it is still working after being carried by every appendage and dropped every way possible. Even us \"big kids\" get a kick out of it--it really is cute. Our son doesn't play with it ALL the time, though, so it hasn't worn on our nerves yet. All in all, a GREAT toy!, Actual: 1, Predicted: 0\n"
     ]
    }
   ],
   "source": [
    "label_encoder = LabelEncoder()\n",
    "\n",
    "def read_data(file_path):\n",
    "    data = pd.read_csv(file_path, encoding='latin-1', header=None)\n",
    "    data.columns = ['rating', 'title', 'review']\n",
    "    data.dropna(inplace=True)\n",
    "    \n",
    "    X, y = data['title'].values + data['review'].values, data['rating'].values\n",
    "    y = label_encoder.fit_transform(y)\n",
    "\n",
    "    return X, y, data\n",
    "\n",
    "\n",
    "X, y, data = read_data('datasets/mcdonald_reviews/amazon_test.csv')\n",
    "print(f'size of data: {len(data)}, shape of X: {X.shape}, shape of y: {y.shape}')\n",
    "\n",
    "X_train, X_val, y_train, y_val = train_test_split(X, y, test_size=0.2, random_state=42)\n",
    "\n",
    "vectorizer = TfidfVectorizer(max_features=10000, ngram_range=(1, 3), lowercase=True)\n",
    "vectorizer.fit(X_train)\n",
    "X_train = vectorizer.transform(X_train)\n",
    "\n",
    "model = XGBClassifier(n_estimators=700, learning_rate=0.2, max_depth=5, colsample_bytree=0.3, n_jobs=-1, random_state=42)\n",
    "model.fit(X_train, y_train)\n",
    "\n",
    "X_val = vectorizer.transform(X_val)\n",
    "y_pred = model.predict(X_val)\n",
    "\n",
    "print_classification_report(y_val, y_pred, 1)\n",
    "\n",
    "misclassified = np.where(y_val != y_pred)\n",
    "misclassified_labels = y_val[misclassified]\n",
    "misclassified_predictions = y_pred[misclassified]\n",
    "misclassified_reviews = data['review'].values[misclassified]\n",
    "\n",
    "indices = random.sample(range(len(misclassified_labels)), 10)\n",
    "\n",
    "for i in indices:\n",
    "    print(f'Review: {misclassified_reviews[i]}, Actual: {misclassified_labels[i]}, Predicted: {misclassified_predictions[i]}')"
   ]
  },
  {
   "cell_type": "code",
   "execution_count": 14,
   "metadata": {},
   "outputs": [],
   "source": [
    "model.save_model('sentiment_analysis.model')"
   ]
  }
 ],
 "metadata": {
  "kernelspec": {
   "display_name": "Python 3",
   "language": "python",
   "name": "python3"
  },
  "language_info": {
   "codemirror_mode": {
    "name": "ipython",
    "version": 3
   },
   "file_extension": ".py",
   "mimetype": "text/x-python",
   "name": "python",
   "nbconvert_exporter": "python",
   "pygments_lexer": "ipython3",
   "version": "3.10.6"
  },
  "orig_nbformat": 4
 },
 "nbformat": 4,
 "nbformat_minor": 2
}
