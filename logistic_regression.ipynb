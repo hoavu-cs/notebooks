{
 "cells": [
  {
   "cell_type": "code",
   "execution_count": 1,
   "metadata": {},
   "outputs": [],
   "source": [
    "import numpy as np \n",
    "import pandas as pd\n",
    "import matplotlib.pyplot as plt\n"
   ]
  },
  {
   "cell_type": "code",
   "execution_count": 43,
   "metadata": {},
   "outputs": [
    {
     "name": "stderr",
     "output_type": "stream",
     "text": [
      "/var/folders/yy/pgsdky714yx9znx_f38016kdvtsz5p/T/ipykernel_65573/2477247081.py:1: DtypeWarning: Columns (19,55) have mixed types. Specify dtype option on import or set low_memory=False.\n",
      "  df = pd.read_csv(\"datasets/loan/loan.csv\")\n"
     ]
    },
    {
     "name": "stdout",
     "output_type": "stream",
     "text": [
      "Index(['id', 'member_id', 'loan_amnt', 'funded_amnt', 'funded_amnt_inv',\n",
      "       'term', 'int_rate', 'installment', 'grade', 'sub_grade', 'emp_title',\n",
      "       'emp_length', 'home_ownership', 'annual_inc', 'verification_status',\n",
      "       'issue_d', 'loan_status', 'pymnt_plan', 'url', 'desc', 'purpose',\n",
      "       'title', 'zip_code', 'addr_state', 'dti', 'delinq_2yrs',\n",
      "       'earliest_cr_line', 'inq_last_6mths', 'mths_since_last_delinq',\n",
      "       'mths_since_last_record', 'open_acc', 'pub_rec', 'revol_bal',\n",
      "       'revol_util', 'total_acc', 'initial_list_status', 'out_prncp',\n",
      "       'out_prncp_inv', 'total_pymnt', 'total_pymnt_inv', 'total_rec_prncp',\n",
      "       'total_rec_int', 'total_rec_late_fee', 'recoveries',\n",
      "       'collection_recovery_fee', 'last_pymnt_d', 'last_pymnt_amnt',\n",
      "       'next_pymnt_d', 'last_credit_pull_d', 'collections_12_mths_ex_med',\n",
      "       'mths_since_last_major_derog', 'policy_code', 'application_type',\n",
      "       'annual_inc_joint', 'dti_joint', 'verification_status_joint',\n",
      "       'acc_now_delinq', 'tot_coll_amt', 'tot_cur_bal', 'open_acc_6m',\n",
      "       'open_il_6m', 'open_il_12m', 'open_il_24m', 'mths_since_rcnt_il',\n",
      "       'total_bal_il', 'il_util', 'open_rv_12m', 'open_rv_24m', 'max_bal_bc',\n",
      "       'all_util', 'total_rev_hi_lim', 'inq_fi', 'total_cu_tl',\n",
      "       'inq_last_12m'],\n",
      "      dtype='object')\n",
      "        id  member_id  loan_amnt  funded_amnt  funded_amnt_inv        term  \\\n",
      "0  1077501    1296599     5000.0       5000.0           4975.0   36 months   \n",
      "1  1077430    1314167     2500.0       2500.0           2500.0   60 months   \n",
      "2  1077175    1313524     2400.0       2400.0           2400.0   36 months   \n",
      "3  1076863    1277178    10000.0      10000.0          10000.0   36 months   \n",
      "4  1075358    1311748     3000.0       3000.0           3000.0   60 months   \n",
      "\n",
      "   int_rate  installment grade sub_grade  ... total_bal_il il_util  \\\n",
      "0     10.65       162.87     B        B2  ...          NaN     NaN   \n",
      "1     15.27        59.83     C        C4  ...          NaN     NaN   \n",
      "2     15.96        84.33     C        C5  ...          NaN     NaN   \n",
      "3     13.49       339.31     C        C1  ...          NaN     NaN   \n",
      "4     12.69        67.79     B        B5  ...          NaN     NaN   \n",
      "\n",
      "  open_rv_12m  open_rv_24m max_bal_bc all_util total_rev_hi_lim inq_fi  \\\n",
      "0         NaN          NaN        NaN      NaN              NaN    NaN   \n",
      "1         NaN          NaN        NaN      NaN              NaN    NaN   \n",
      "2         NaN          NaN        NaN      NaN              NaN    NaN   \n",
      "3         NaN          NaN        NaN      NaN              NaN    NaN   \n",
      "4         NaN          NaN        NaN      NaN              NaN    NaN   \n",
      "\n",
      "  total_cu_tl inq_last_12m  \n",
      "0         NaN          NaN  \n",
      "1         NaN          NaN  \n",
      "2         NaN          NaN  \n",
      "3         NaN          NaN  \n",
      "4         NaN          NaN  \n",
      "\n",
      "[5 rows x 74 columns]\n"
     ]
    }
   ],
   "source": [
    "df = pd.read_csv(\"datasets/loan/loan.csv\")\n",
    "print(df.columns)\n",
    "print(df.head())"
   ]
  },
  {
   "cell_type": "code",
   "execution_count": 44,
   "metadata": {},
   "outputs": [
    {
     "name": "stdout",
     "output_type": "stream",
     "text": [
      "id                    int64\n",
      "member_id             int64\n",
      "loan_amnt           float64\n",
      "funded_amnt         float64\n",
      "funded_amnt_inv     float64\n",
      "                     ...   \n",
      "all_util            float64\n",
      "total_rev_hi_lim    float64\n",
      "inq_fi              float64\n",
      "total_cu_tl         float64\n",
      "inq_last_12m        float64\n",
      "Length: 74, dtype: object\n"
     ]
    }
   ],
   "source": [
    "print(df.dtypes)"
   ]
  },
  {
   "cell_type": "code",
   "execution_count": 48,
   "metadata": {},
   "outputs": [
    {
     "name": "stdout",
     "output_type": "stream",
     "text": [
      "Index(['id', 'member_id', 'loan_amnt', 'funded_amnt', 'funded_amnt_inv',\n",
      "       'term', 'int_rate', 'installment', 'grade', 'sub_grade', 'emp_title',\n",
      "       'emp_length', 'home_ownership', 'annual_inc', 'verification_status',\n",
      "       'issue_d', 'loan_status', 'pymnt_plan', 'url', 'purpose', 'title',\n",
      "       'zip_code', 'addr_state', 'dti', 'delinq_2yrs', 'earliest_cr_line',\n",
      "       'inq_last_6mths', 'open_acc', 'pub_rec', 'revol_bal', 'revol_util',\n",
      "       'total_acc', 'initial_list_status', 'out_prncp', 'out_prncp_inv',\n",
      "       'total_pymnt', 'total_pymnt_inv', 'total_rec_prncp', 'total_rec_int',\n",
      "       'total_rec_late_fee', 'recoveries', 'collection_recovery_fee',\n",
      "       'last_pymnt_d', 'last_pymnt_amnt', 'last_credit_pull_d',\n",
      "       'collections_12_mths_ex_med', 'policy_code', 'application_type',\n",
      "       'acc_now_delinq', 'tot_coll_amt', 'tot_cur_bal', 'total_rev_hi_lim'],\n",
      "      dtype='object')\n"
     ]
    }
   ],
   "source": [
    "# drop columns with more than 10% missing data\n",
    "drop_rate = 0.1\n",
    "df.dropna(thresh=len(df)*(1 - drop_rate), axis=1, inplace=False)\n",
    "\n",
    "print(df.columns)\n",
    "missing_data = df.isnull().sum()"
   ]
  },
  {
   "cell_type": "code",
   "execution_count": 49,
   "metadata": {},
   "outputs": [
    {
     "name": "stdout",
     "output_type": "stream",
     "text": [
      "(819022, 52)\n",
      "Index(['id', 'member_id', 'loan_amnt', 'funded_amnt', 'funded_amnt_inv',\n",
      "       'term', 'int_rate', 'installment', 'grade', 'sub_grade', 'emp_title',\n",
      "       'emp_length', 'home_ownership', 'annual_inc', 'verification_status',\n",
      "       'issue_d', 'loan_status', 'pymnt_plan', 'url', 'purpose', 'title',\n",
      "       'zip_code', 'addr_state', 'dti', 'delinq_2yrs', 'earliest_cr_line',\n",
      "       'inq_last_6mths', 'open_acc', 'pub_rec', 'revol_bal', 'revol_util',\n",
      "       'total_acc', 'initial_list_status', 'out_prncp', 'out_prncp_inv',\n",
      "       'total_pymnt', 'total_pymnt_inv', 'total_rec_prncp', 'total_rec_int',\n",
      "       'total_rec_late_fee', 'recoveries', 'collection_recovery_fee',\n",
      "       'last_pymnt_d', 'last_pymnt_amnt', 'last_credit_pull_d',\n",
      "       'collections_12_mths_ex_med', 'policy_code', 'application_type',\n",
      "       'acc_now_delinq', 'tot_coll_amt', 'tot_cur_bal', 'total_rev_hi_lim'],\n",
      "      dtype='object')\n"
     ]
    }
   ],
   "source": [
    "non_numeric_columns = df.select_dtypes(['object']).columns\n",
    "cleaned_data  = df.dropna(subset=non_numeric_columns)\n",
    "\n",
    "print(cleaned_data.shape)\n",
    "print(cleaned_data.columns)"
   ]
  },
  {
   "cell_type": "code",
   "execution_count": 60,
   "metadata": {},
   "outputs": [
    {
     "name": "stdout",
     "output_type": "stream",
     "text": [
      "Index(['id', 'member_id', 'loan_amnt', 'funded_amnt', 'funded_amnt_inv',\n",
      "       'int_rate', 'installment', 'annual_inc', 'dti', 'delinq_2yrs',\n",
      "       'inq_last_6mths', 'open_acc', 'pub_rec', 'revol_bal', 'revol_util',\n",
      "       'total_acc', 'out_prncp', 'out_prncp_inv', 'total_pymnt',\n",
      "       'total_pymnt_inv', 'total_rec_prncp', 'total_rec_int',\n",
      "       'total_rec_late_fee', 'recoveries', 'collection_recovery_fee',\n",
      "       'last_pymnt_amnt', 'collections_12_mths_ex_med', 'policy_code',\n",
      "       'acc_now_delinq', 'tot_coll_amt', 'tot_cur_bal', 'total_rev_hi_lim'],\n",
      "      dtype='object')\n"
     ]
    }
   ],
   "source": [
    "y = cleaned_data['loan_status']\n",
    "X = cleaned_data.drop(columns=['loan_status'])\n",
    "X = X.select_dtypes(['float64', 'int64'])\n",
    "print(X.columns)\n"
   ]
  },
  {
   "cell_type": "code",
   "execution_count": 62,
   "metadata": {},
   "outputs": [
    {
     "name": "stdout",
     "output_type": "stream",
     "text": [
      "False\n"
     ]
    }
   ],
   "source": [
    "from sklearn.impute import SimpleImputer\n",
    "from sklearn.preprocessing import StandardScaler\n",
    "\n",
    "imputer = SimpleImputer(strategy='mean')\n",
    "scaler = StandardScaler()\n",
    "\n",
    "X = imputer.fit_transform(X)\n",
    "X = scaler.fit_transform(X)\n",
    "\n",
    "print(np.isnan(X).any())\n"
   ]
  },
  {
   "cell_type": "code",
   "execution_count": 63,
   "metadata": {},
   "outputs": [
    {
     "name": "stdout",
     "output_type": "stream",
     "text": [
      "[0 5 1 5 1 5 0 5 5 0]\n"
     ]
    }
   ],
   "source": [
    "from sklearn.preprocessing import LabelEncoder\n",
    "\n",
    "le = LabelEncoder()\n",
    "y = le.fit_transform(y)\n",
    "\n",
    "print(y[:10])"
   ]
  },
  {
   "cell_type": "code",
   "execution_count": 39,
   "metadata": {},
   "outputs": [],
   "source": [
    "# preprocessing\n",
    "from sklearn.preprocessing import StandardScaler\n",
    "\n",
    "scaler = StandardScaler()\n",
    "cleaned_data = scaler.fit_transform(X)"
   ]
  },
  {
   "cell_type": "code",
   "execution_count": 40,
   "metadata": {},
   "outputs": [
    {
     "name": "stdout",
     "output_type": "stream",
     "text": [
      "max of each column:  loan_amnt                     3.500000e+04\n",
      "funded_amnt                   3.500000e+04\n",
      "funded_amnt_inv               3.500000e+04\n",
      "int_rate                      2.899000e+01\n",
      "installment                   1.445460e+03\n",
      "annual_inc                    9.500000e+06\n",
      "dti                           3.805300e+02\n",
      "delinq_2yrs                   3.900000e+01\n",
      "inq_last_6mths                3.200000e+01\n",
      "open_acc                      9.000000e+01\n",
      "pub_rec                       8.600000e+01\n",
      "revol_bal                     2.904836e+06\n",
      "revol_util                    8.923000e+02\n",
      "total_acc                     1.690000e+02\n",
      "out_prncp                     4.937286e+04\n",
      "out_prncp_inv                 4.937286e+04\n",
      "total_pymnt                   5.777758e+04\n",
      "total_pymnt_inv               5.777758e+04\n",
      "total_rec_prncp               3.500003e+04\n",
      "total_rec_int                 2.420562e+04\n",
      "total_rec_late_fee            3.586800e+02\n",
      "recoveries                    3.352027e+04\n",
      "collection_recovery_fee       7.002190e+03\n",
      "last_pymnt_amnt               3.647559e+04\n",
      "collections_12_mths_ex_med    2.000000e+01\n",
      "policy_code                   1.000000e+00\n",
      "acc_now_delinq                1.400000e+01\n",
      "tot_coll_amt                  9.152545e+06\n",
      "tot_cur_bal                   8.000078e+06\n",
      "total_rev_hi_lim              9.999999e+06\n",
      "dtype: float64\n",
      "min of each column:  loan_amnt                      500.00\n",
      "funded_amnt                    500.00\n",
      "funded_amnt_inv                  0.00\n",
      "int_rate                         5.32\n",
      "installment                     15.67\n",
      "annual_inc                    1896.00\n",
      "dti                              0.00\n",
      "delinq_2yrs                      0.00\n",
      "inq_last_6mths                   0.00\n",
      "open_acc                         0.00\n",
      "pub_rec                          0.00\n",
      "revol_bal                        0.00\n",
      "revol_util                       0.00\n",
      "total_acc                        1.00\n",
      "out_prncp                        0.00\n",
      "out_prncp_inv                    0.00\n",
      "total_pymnt                      0.00\n",
      "total_pymnt_inv                  0.00\n",
      "total_rec_prncp                  0.00\n",
      "total_rec_int                    0.00\n",
      "total_rec_late_fee               0.00\n",
      "recoveries                       0.00\n",
      "collection_recovery_fee          0.00\n",
      "last_pymnt_amnt                  0.00\n",
      "collections_12_mths_ex_med       0.00\n",
      "policy_code                      1.00\n",
      "acc_now_delinq                   0.00\n",
      "tot_coll_amt                     0.00\n",
      "tot_cur_bal                      0.00\n",
      "total_rev_hi_lim                 0.00\n",
      "dtype: float64\n"
     ]
    }
   ],
   "source": [
    "print(\"max of each column: \", X.max(axis=0))\n",
    "print(\"min of each column: \", X.min(axis=0))"
   ]
  },
  {
   "cell_type": "code",
   "execution_count": 64,
   "metadata": {},
   "outputs": [],
   "source": [
    "from sklearn.linear_model import LogisticRegression\n",
    "from sklearn.model_selection import train_test_split"
   ]
  },
  {
   "cell_type": "code",
   "execution_count": 65,
   "metadata": {},
   "outputs": [
    {
     "name": "stdout",
     "output_type": "stream",
     "text": [
      "0.9697567229327554\n"
     ]
    },
    {
     "name": "stderr",
     "output_type": "stream",
     "text": [
      "/Library/Python/3.8/site-packages/sklearn/linear_model/_logistic.py:444: ConvergenceWarning: lbfgs failed to converge (status=1):\n",
      "STOP: TOTAL NO. of ITERATIONS REACHED LIMIT.\n",
      "\n",
      "Increase the number of iterations (max_iter) or scale the data as shown in:\n",
      "    https://scikit-learn.org/stable/modules/preprocessing.html\n",
      "Please also refer to the documentation for alternative solver options:\n",
      "    https://scikit-learn.org/stable/modules/linear_model.html#logistic-regression\n",
      "  n_iter_i = _check_optimize_result(\n"
     ]
    }
   ],
   "source": [
    "X_train, X_test, y_train, y_test = train_test_split(X, y, test_size=0.2)\n",
    "\n",
    "model = LogisticRegression()\n",
    "model.fit(X_train, y_train)\n",
    "\n",
    "print(model.score(X_test, y_test))\n",
    "\n",
    "\n",
    "\n",
    "    "
   ]
  },
  {
   "cell_type": "code",
   "execution_count": 66,
   "metadata": {},
   "outputs": [
    {
     "name": "stdout",
     "output_type": "stream",
     "text": [
      "0.9690178978872648\n"
     ]
    }
   ],
   "source": [
    "print(model.score(X_train, y_train))"
   ]
  }
 ],
 "metadata": {
  "kernelspec": {
   "display_name": "Python 3",
   "language": "python",
   "name": "python3"
  },
  "language_info": {
   "codemirror_mode": {
    "name": "ipython",
    "version": 3
   },
   "file_extension": ".py",
   "mimetype": "text/x-python",
   "name": "python",
   "nbconvert_exporter": "python",
   "pygments_lexer": "ipython3",
   "version": "3.8.2"
  }
 },
 "nbformat": 4,
 "nbformat_minor": 2
}
