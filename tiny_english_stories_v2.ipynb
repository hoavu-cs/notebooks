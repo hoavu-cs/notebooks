{
  "cells": [
    {
      "cell_type": "markdown",
      "metadata": {
        "id": "view-in-github",
        "colab_type": "text"
      },
      "source": [
        "<a href=\"https://colab.research.google.com/github/hoavu-cs/notebooks/blob/main/tiny_english_stories_v2.ipynb\" target=\"_parent\"><img src=\"https://colab.research.google.com/assets/colab-badge.svg\" alt=\"Open In Colab\"/></a>"
      ]
    },
    {
      "cell_type": "code",
      "execution_count": 2,
      "metadata": {
        "id": "9pHCodg4zzxu"
      },
      "outputs": [],
      "source": [
        "import torch\n",
        "import torch.nn as nn\n",
        "import torch.nn.functional as F\n",
        "import os\n",
        "import pandas as pd\n",
        "import torch.nn as nn\n",
        "import torch.nn.functional as F\n",
        "import random\n",
        "import pickle\n",
        "import math\n",
        "from tqdm import tqdm\n",
        "from tokenizers import ByteLevelBPETokenizer\n",
        "from tokenizers.processors import BertProcessing\n",
        "from transformers import AutoTokenizer, BertTokenizer\n",
        "from sklearn.model_selection import train_test_split\n",
        "import gc\n",
        "from tokenizers import ByteLevelBPETokenizer, processors\n",
        "\n",
        "device = torch.device(\"cuda\" if torch.cuda.is_available() else \"cpu\")"
      ]
    },
    {
      "cell_type": "code",
      "execution_count": 1,
      "metadata": {
        "id": "1qJAVbOe196m",
        "colab": {
          "base_uri": "https://localhost:8080/"
        },
        "outputId": "cf891834-1ed9-4274-8fa1-d89f76f149ca"
      },
      "outputs": [
        {
          "output_type": "stream",
          "name": "stdout",
          "text": [
            "Collecting transformers\n",
            "  Downloading transformers-4.34.0-py3-none-any.whl (7.7 MB)\n",
            "\u001b[2K     \u001b[90m━━━━━━━━━━━━━━━━━━━━━━━━━━━━━━━━━━━━━━━━\u001b[0m \u001b[32m7.7/7.7 MB\u001b[0m \u001b[31m55.1 MB/s\u001b[0m eta \u001b[36m0:00:00\u001b[0m\n",
            "\u001b[?25hRequirement already satisfied: filelock in /usr/local/lib/python3.10/dist-packages (from transformers) (3.12.4)\n",
            "Collecting huggingface-hub<1.0,>=0.16.4 (from transformers)\n",
            "  Downloading huggingface_hub-0.17.3-py3-none-any.whl (295 kB)\n",
            "\u001b[2K     \u001b[90m━━━━━━━━━━━━━━━━━━━━━━━━━━━━━━━━━━━━━━\u001b[0m \u001b[32m295.0/295.0 kB\u001b[0m \u001b[31m39.3 MB/s\u001b[0m eta \u001b[36m0:00:00\u001b[0m\n",
            "\u001b[?25hRequirement already satisfied: numpy>=1.17 in /usr/local/lib/python3.10/dist-packages (from transformers) (1.23.5)\n",
            "Requirement already satisfied: packaging>=20.0 in /usr/local/lib/python3.10/dist-packages (from transformers) (23.2)\n",
            "Requirement already satisfied: pyyaml>=5.1 in /usr/local/lib/python3.10/dist-packages (from transformers) (6.0.1)\n",
            "Requirement already satisfied: regex!=2019.12.17 in /usr/local/lib/python3.10/dist-packages (from transformers) (2023.6.3)\n",
            "Requirement already satisfied: requests in /usr/local/lib/python3.10/dist-packages (from transformers) (2.31.0)\n",
            "Collecting tokenizers<0.15,>=0.14 (from transformers)\n",
            "  Downloading tokenizers-0.14.1-cp310-cp310-manylinux_2_17_x86_64.manylinux2014_x86_64.whl (3.8 MB)\n",
            "\u001b[2K     \u001b[90m━━━━━━━━━━━━━━━━━━━━━━━━━━━━━━━━━━━━━━━━\u001b[0m \u001b[32m3.8/3.8 MB\u001b[0m \u001b[31m114.7 MB/s\u001b[0m eta \u001b[36m0:00:00\u001b[0m\n",
            "\u001b[?25hCollecting safetensors>=0.3.1 (from transformers)\n",
            "  Downloading safetensors-0.4.0-cp310-cp310-manylinux_2_17_x86_64.manylinux2014_x86_64.whl (1.3 MB)\n",
            "\u001b[2K     \u001b[90m━━━━━━━━━━━━━━━━━━━━━━━━━━━━━━━━━━━━━━━━\u001b[0m \u001b[32m1.3/1.3 MB\u001b[0m \u001b[31m86.9 MB/s\u001b[0m eta \u001b[36m0:00:00\u001b[0m\n",
            "\u001b[?25hRequirement already satisfied: tqdm>=4.27 in /usr/local/lib/python3.10/dist-packages (from transformers) (4.66.1)\n",
            "Requirement already satisfied: fsspec in /usr/local/lib/python3.10/dist-packages (from huggingface-hub<1.0,>=0.16.4->transformers) (2023.6.0)\n",
            "Requirement already satisfied: typing-extensions>=3.7.4.3 in /usr/local/lib/python3.10/dist-packages (from huggingface-hub<1.0,>=0.16.4->transformers) (4.5.0)\n",
            "Requirement already satisfied: charset-normalizer<4,>=2 in /usr/local/lib/python3.10/dist-packages (from requests->transformers) (3.3.0)\n",
            "Requirement already satisfied: idna<4,>=2.5 in /usr/local/lib/python3.10/dist-packages (from requests->transformers) (3.4)\n",
            "Requirement already satisfied: urllib3<3,>=1.21.1 in /usr/local/lib/python3.10/dist-packages (from requests->transformers) (2.0.6)\n",
            "Requirement already satisfied: certifi>=2017.4.17 in /usr/local/lib/python3.10/dist-packages (from requests->transformers) (2023.7.22)\n",
            "Installing collected packages: safetensors, huggingface-hub, tokenizers, transformers\n",
            "Successfully installed huggingface-hub-0.17.3 safetensors-0.4.0 tokenizers-0.14.1 transformers-4.34.0\n"
          ]
        }
      ],
      "source": [
        "!pip install transformers\n"
      ]
    },
    {
      "cell_type": "code",
      "execution_count": 3,
      "metadata": {
        "colab": {
          "base_uri": "https://localhost:8080/"
        },
        "id": "cx-qVyof2BgJ",
        "outputId": "d5fa2861-8bbf-40c3-a95e-d2d9c1be82a0"
      },
      "outputs": [
        {
          "output_type": "stream",
          "name": "stdout",
          "text": [
            "Mounted at /content/drive\n",
            " english_tiny_stories_18m.pth\t      english_tiny_stories_4layers.pth\n",
            " english_tiny_stories_28m.pth\t      english_tiny_stories.pth\n",
            "'english_tiny_stories_2 - Copy.pth'   merges.txt\n",
            " english_tiny_stories_2.pth\t      TinyStoriesV2-GPT4-train.txt\n",
            " english_tiny_stories_37m.pth\t      TinyStoriesV2-GPT4-valid.txt\n",
            " english_tiny_stories_4layers_2.pth   vocab.json\n"
          ]
        }
      ],
      "source": [
        "# Load the Drive helper and mount\n",
        "from google.colab import drive\n",
        "\n",
        "# This will prompt for authorization.\n",
        "drive.mount('/content/drive')\n",
        "!ls \"/content/drive/My Drive/datasets/NLP/tiny_stories\"\n",
        "data_path = \"/content/drive/My Drive/datasets/NLP/tiny_stories\"\n"
      ]
    },
    {
      "cell_type": "code",
      "source": [
        "filename = 'TinyStoriesV2-GPT4-train.txt'\n",
        "val_filename = 'TinyStoriesV2-GPT4-valid.txt'\n",
        "\n",
        "filepath = os.path.join(data_path, filename)\n",
        "with open(filepath, 'r', encoding='utf-8') as file:\n",
        "    train_data = file.read()\n",
        "train_data = train_data.replace('\\n', '')\n",
        "train_data = train_data.split('<|endoftext|>')\n",
        "\n",
        "val_filepath = os.path.join(data_path, val_filename)\n",
        "with open(val_filepath, 'r', encoding='utf-8') as file:\n",
        "    val_data = file.read()\n",
        "val_data = val_data.replace('\\n', '')\n",
        "val_data = val_data.split('<|endoftext|>')\n",
        "\n",
        "print(train_data[0])\n",
        "\n",
        "\n",
        "\n"
      ],
      "metadata": {
        "id": "cJ6Gsjjjqi4Q",
        "colab": {
          "base_uri": "https://localhost:8080/"
        },
        "outputId": "10175887-cf6a-4440-bfa9-f40aceae3109"
      },
      "execution_count": 4,
      "outputs": [
        {
          "output_type": "stream",
          "name": "stdout",
          "text": [
            "Once upon a time there was a little boy named Ben. Ben loved to explore the world around him. He saw many amazing things, like beautiful vases that were on display in a store. One day, Ben was walking through the store when he came across a very special vase. When Ben saw it he was amazed!  He said, “Wow, that is a really amazing vase! Can I buy it?” The shopkeeper smiled and said, “Of course you can. You can take it home and show all your friends how amazing it is!”So Ben took the vase home and he was so proud of it! He called his friends over and showed them the amazing vase. All his friends thought the vase was beautiful and couldn't believe how lucky Ben was. And that's how Ben found an amazing vase in the store!\n"
          ]
        }
      ]
    },
    {
      "cell_type": "code",
      "source": [
        "train_data = pd.DataFrame(train_data, columns=['content'])\n",
        "val_data = pd.DataFrame(val_data, columns=['content'])\n",
        "\n",
        "print(train_data.shape)\n",
        "print(val_data.shape)\n",
        "\n",
        "print(train_data.head())\n"
      ],
      "metadata": {
        "colab": {
          "base_uri": "https://localhost:8080/"
        },
        "id": "wB6DsNYWK6Gr",
        "outputId": "f6e9c76d-4226-461c-ab87-913c1d72c290"
      },
      "execution_count": 6,
      "outputs": [
        {
          "output_type": "stream",
          "name": "stdout",
          "text": [
            "(2717700, 1)\n",
            "(27631, 1)\n",
            "                                             content\n",
            "0  Once upon a time there was a little boy named ...\n",
            "1  Once upon a time, there was a reliable otter n...\n",
            "2  One day, a little boy named Tim went to the pa...\n",
            "3  Once upon a time there was a friendly little b...\n",
            "4  Once upon a time, in a small house, there live...\n"
          ]
        }
      ]
    },
    {
      "cell_type": "code",
      "source": [
        "tokenizer = ByteLevelBPETokenizer()\n",
        "\n",
        "tokenizer.train(files=[os.path.join(data_path, 'TinyStoriesV2-GPT4-valid.txt')], vocab_size=10000, min_frequency=1, special_tokens=[\n",
        "    \"<s>\",\n",
        "    \"<pad>\",\n",
        "    \"</s>\",\n",
        "    \"<unk>\",\n",
        "    \"<mask>\",\n",
        "])\n",
        "\n",
        "tokenizer.save_model(data_path)"
      ],
      "metadata": {
        "id": "1VFv6VYZrenp",
        "colab": {
          "base_uri": "https://localhost:8080/"
        },
        "outputId": "4a9cd9fa-93a0-4931-9192-a28f80e1de5c"
      },
      "execution_count": null,
      "outputs": [
        {
          "output_type": "execute_result",
          "data": {
            "text/plain": [
              "['/content/drive/My Drive/datasets/NLP/tiny_stories/vocab.json',\n",
              " '/content/drive/My Drive/datasets/NLP/tiny_stories/merges.txt']"
            ]
          },
          "metadata": {},
          "execution_count": 101
        }
      ]
    },
    {
      "cell_type": "code",
      "source": [
        "vocab_path = os.path.join(data_path, \"vocab.json\")\n",
        "merge_path = os.path.join(data_path, \"merges.txt\")\n",
        "\n",
        "tokenizer = ByteLevelBPETokenizer(\n",
        "    vocab=vocab_path,\n",
        "    merges=merge_path\n",
        ")\n",
        "\n",
        "tokenizer.add_special_tokens([\"<s>\", \"<pad>\", \"</s>\", \"<unk>\", \"<mask>\"])\n",
        "\n",
        "tokenizer._tokenizer.post_processor = processors.BertProcessing(\n",
        "    (\"</s>\", tokenizer.token_to_id(\"</s>\")),\n",
        "    (\"<s>\", tokenizer.token_to_id(\"<s>\")),\n",
        ")\n",
        "\n"
      ],
      "metadata": {
        "id": "VOXL-GXxr2Oq"
      },
      "execution_count": 5,
      "outputs": []
    },
    {
      "cell_type": "code",
      "source": [
        "# 4. Encode a text string\n",
        "print(train_data.loc[0, 'content'])\n",
        "output = tokenizer.encode(train_data.loc[0, 'content']).ids\n",
        "print(\"Decoded string: \", tokenizer.decode(output, skip_special_tokens=False))  # decoding back to the original string"
      ],
      "metadata": {
        "colab": {
          "base_uri": "https://localhost:8080/"
        },
        "id": "VLmGXW9Usx3v",
        "outputId": "eeb60dbe-ad9c-4822-9d28-cd418c1f0f22"
      },
      "execution_count": 7,
      "outputs": [
        {
          "output_type": "stream",
          "name": "stdout",
          "text": [
            "Once upon a time there was a little boy named Ben. Ben loved to explore the world around him. He saw many amazing things, like beautiful vases that were on display in a store. One day, Ben was walking through the store when he came across a very special vase. When Ben saw it he was amazed!  He said, “Wow, that is a really amazing vase! Can I buy it?” The shopkeeper smiled and said, “Of course you can. You can take it home and show all your friends how amazing it is!”So Ben took the vase home and he was so proud of it! He called his friends over and showed them the amazing vase. All his friends thought the vase was beautiful and couldn't believe how lucky Ben was. And that's how Ben found an amazing vase in the store!\n",
            "Decoded string:  <s>Once upon a time there was a little boy named Ben. Ben loved to explore the world around him. He saw many amazing things, like beautiful vases that were on display in a store. One day, Ben was walking through the store when he came across a very special vase. When Ben saw it he was amazed!  He said, “Wow, that is a really amazing vase! Can I buy it?” The shopkeeper smiled and said, “Of course you can. You can take it home and show all your friends how amazing it is!”So Ben took the vase home and he was so proud of it! He called his friends over and showed them the amazing vase. All his friends thought the vase was beautiful and couldn't believe how lucky Ben was. And that's how Ben found an amazing vase in the store!</s>\n"
          ]
        }
      ]
    },
    {
      "cell_type": "code",
      "execution_count": 8,
      "metadata": {
        "id": "yQ9D6gFazzxw",
        "colab": {
          "base_uri": "https://localhost:8080/"
        },
        "outputId": "f405210d-0c48-4cd9-e082-2352fe8b0dd3"
      },
      "outputs": [
        {
          "output_type": "stream",
          "name": "stdout",
          "text": [
            "Vocab size is  10000\n"
          ]
        }
      ],
      "source": [
        "BLOCK_SIZE = 256\n",
        "VOCAB_SIZE = len(tokenizer.get_vocab())\n",
        "print('Vocab size is ', VOCAB_SIZE)\n"
      ]
    },
    {
      "cell_type": "code",
      "source": [
        "eot_id = tokenizer.token_to_id(\"<|endoftext|>\")\n",
        "start_id = tokenizer.token_to_id(\"<s>\")\n",
        "end_id = tokenizer.token_to_id(\"</s>\")\n",
        "pad_id = tokenizer.token_to_id(\"<pad>\")\n",
        "unk_id = tokenizer.token_to_id(\"<unk>\")"
      ],
      "metadata": {
        "id": "A17FtD1XtLx0"
      },
      "execution_count": 9,
      "outputs": []
    },
    {
      "cell_type": "code",
      "execution_count": 10,
      "metadata": {
        "colab": {
          "base_uri": "https://localhost:8080/"
        },
        "id": "WMAvqIY8zzxw",
        "outputId": "70490d21-dbd8-4dfb-b5b3-94476c4e2859"
      },
      "outputs": [
        {
          "output_type": "stream",
          "name": "stdout",
          "text": [
            "torch.Size([1, 256]) torch.Size([1, 256])\n",
            "<s>One day, a little shrimp was swimming in the sea. He was not very big, but he was very fast. He believed that he could swim faster than any fish in the sea. He thought it was easy to be the best.The little shrimp met a big fish. The big fish said, \"I am the fastest fish in the sea. No one can beat me.\" The little shrimp said, \"I believe I can beat you. Let's have a race to see who is faster.\" The big fish laughed and said, \"Okay, little shrimp. Let's race.\"They started the race, and the little shrimp swam as fast as he could. The big fish was very fast too, but the little shrimp did not give up. He kept swimming and swimming. At the end of the race, the little shrimp won! The big fish was sad, but he said, \"You are very fast, little shrimp. I believe you are the fastest in the sea.\" The little shrimp was happy and proud. He knew that if he believed in himself, anything was easy.</s><pad><pad><pad><pad><pad><pad><pad><pad><pad><pad><pad><pad><pad><pad><pad><pad><pad><pad><pad><pad><pad><pad><pad><pad><pad><pad><pad><pad><pad><pad><pad><pad><pad><pad><pad>\n",
            "One day, a little shrimp was swimming in the sea. He was not very big, but he was very fast. He believed that he could swim faster than any fish in the sea. He thought it was easy to be the best.The little shrimp met a big fish. The big fish said, \"I am the fastest fish in the sea. No one can beat me.\" The little shrimp said, \"I believe I can beat you. Let's have a race to see who is faster.\" The big fish laughed and said, \"Okay, little shrimp. Let's race.\"They started the race, and the little shrimp swam as fast as he could. The big fish was very fast too, but the little shrimp did not give up. He kept swimming and swimming. At the end of the race, the little shrimp won! The big fish was sad, but he said, \"You are very fast, little shrimp. I believe you are the fastest in the sea.\" The little shrimp was happy and proud. He knew that if he believed in himself, anything was easy.</s><pad><pad><pad><pad><pad><pad><pad><pad><pad><pad><pad><pad><pad><pad><pad><pad><pad><pad><pad><pad><pad><pad><pad><pad><pad><pad><pad><pad><pad><pad><pad><pad><pad><pad><pad><pad>\n"
          ]
        }
      ],
      "source": [
        "def get_batch(data, block_size, batch_size):\n",
        "    x = torch.zeros((batch_size, block_size), dtype=torch.long)\n",
        "    y = torch.zeros((batch_size, block_size), dtype=torch.long)\n",
        "    samples = data['content'].sample(n=batch_size)\n",
        "\n",
        "    for i, sample in enumerate(samples):\n",
        "        summary_ids = tokenizer.encode(sample).ids\n",
        "        #summary_ids = [id for id in summary_ids if id != UNK_ID]\n",
        "        if len(summary_ids) < block_size + 2:\n",
        "            summary_ids = summary_ids + [pad_id] * (block_size + 2 - len(summary_ids))\n",
        "        random_start = random.randint(0, len(summary_ids) - block_size - 2)\n",
        "        x[i, :len(summary_ids)] = torch.tensor(summary_ids[random_start:random_start + block_size], dtype=torch.long)\n",
        "        y[i, :len(summary_ids)] = torch.tensor(summary_ids[random_start + 1:random_start + block_size + 1], dtype=torch.long)\n",
        "\n",
        "    return x, y\n",
        "\n",
        "a, b = get_batch(train_data, block_size=BLOCK_SIZE, batch_size=1)\n",
        "print(a.shape, b.shape)\n",
        "print(tokenizer.decode(a[0].tolist(), skip_special_tokens=False))\n",
        "print(tokenizer.decode(b[0].tolist(), skip_special_tokens=False))"
      ]
    },
    {
      "cell_type": "code",
      "source": [
        "del model  # delete the tensor variable\n",
        "torch.cuda.empty_cache()  # clear unused memory in PyTorch\n",
        "gc.collect()  # call Python garbage collector"
      ],
      "metadata": {
        "colab": {
          "base_uri": "https://localhost:8080/"
        },
        "id": "MQJerzes3nvz",
        "outputId": "07ca648b-757d-4d63-a6a9-ccf86e0f72a7"
      },
      "execution_count": null,
      "outputs": [
        {
          "output_type": "execute_result",
          "data": {
            "text/plain": [
              "583"
            ]
          },
          "metadata": {},
          "execution_count": 171
        }
      ]
    },
    {
      "cell_type": "code",
      "execution_count": 11,
      "metadata": {
        "colab": {
          "base_uri": "https://localhost:8080/"
        },
        "id": "rnsjYq0jzzxw",
        "outputId": "2e99ee2b-e8ab-4331-e69b-21ae22c25016"
      },
      "outputs": [
        {
          "output_type": "stream",
          "name": "stdout",
          "text": [
            "Number of parameters 84357792\n"
          ]
        }
      ],
      "source": [
        "N_EMB = 1200\n",
        "N_LAYERS = 4\n",
        "N_HEADS = 4\n",
        "DROPOUT = 0.2\n",
        "\n",
        "\n",
        "def estimate_loss(model, val_data, block_size, batch_size):\n",
        "    model.eval()\n",
        "    with torch.no_grad():\n",
        "        x, y = get_batch(val_data, block_size, batch_size)\n",
        "        x, y = x.to(device), y.to(device)\n",
        "        _, loss = model(x, y)\n",
        "    model.train()\n",
        "    return loss.item()\n",
        "\n",
        "def generate_square_subsequent_mask(sz):\n",
        "    mask = (torch.tril(torch.ones(sz, sz)) == 1).float()\n",
        "    mask = mask.masked_fill(mask == 0, float('-inf')).masked_fill(mask == 1, float(0.0))\n",
        "    return mask\n",
        "\n",
        "def get_sine_position_encodings(length, dim):\n",
        "    pos = torch.arange(length, dtype=torch.float32).reshape(-1, 1)\n",
        "    div_term = torch.exp(torch.arange(0, dim, 2).float() * -(math.log(10000.0) / dim))\n",
        "    pos_encodings = torch.zeros(length, dim)\n",
        "    pos_encodings[:, 0::2] = torch.sin(pos * div_term)\n",
        "    pos_encodings[:, 1::2] = torch.cos(pos * div_term)\n",
        "    return pos_encodings\n",
        "\n",
        "class LanguageModel(nn.Module):\n",
        "\n",
        "    def __init__(self, vocab_size, n_emb, block_size, n_layers, n_heads, dropout=0.2):\n",
        "        super(LanguageModel, self).__init__()\n",
        "\n",
        "        self.token_embedding_table = nn.Embedding(vocab_size, n_emb)\n",
        "        self.position_embedding_table = nn.Embedding(block_size, n_emb)\n",
        "\n",
        "        encoder_layer = nn.TransformerEncoderLayer(d_model=n_emb, nhead=n_heads, dropout=dropout)\n",
        "        self.transformer_encoder = nn.TransformerEncoder(encoder_layer, num_layers=n_layers)\n",
        "\n",
        "        self.feed_forward = nn.Sequential(\n",
        "            nn.Linear(n_emb, 6 * n_emb),\n",
        "            nn.ReLU(),\n",
        "            nn.Linear(6 * n_emb, n_emb)\n",
        "        )\n",
        "\n",
        "        self.lm_head = nn.Linear(n_emb, vocab_size)\n",
        "\n",
        "    def forward(self, idx, targets=None):\n",
        "        B, T = idx.shape\n",
        "\n",
        "        token_emb = self.token_embedding_table(idx)\n",
        "        position_emb = self.position_embedding_table(torch.arange(T, device=device))\n",
        "\n",
        "        x = token_emb + position_emb\n",
        "        x_transform = x.clone()\n",
        "        mask = generate_square_subsequent_mask(T).to(device)\n",
        "\n",
        "        x_transform = self.transformer_encoder(x_transform.permute(1, 0, 2), mask=mask)\n",
        "        x_transform = x_transform.permute(1, 0, 2)\n",
        "        x = x + x_transform\n",
        "\n",
        "        x = self.feed_forward(x)\n",
        "        logits = self.lm_head(x)\n",
        "\n",
        "        if targets is not None:\n",
        "            B, T, C = logits.shape\n",
        "            logits = logits.view(B * T, C)\n",
        "            targets = targets.view(B * T)\n",
        "            loss = F.cross_entropy(logits, targets)\n",
        "            return logits, loss\n",
        "        else:\n",
        "            return logits, None\n",
        "\n",
        "\n",
        "    def generate(self, idx, max_new_tokens, block_size, temperature=1.0, stop_token=False):\n",
        "        for _ in range(max_new_tokens):\n",
        "            idx_cond = idx[:, -block_size:]\n",
        "            logits, _ = self.forward(idx_cond)\n",
        "\n",
        "            # Scale logits by the temperature\n",
        "            logits = logits[:, -1, :] / temperature\n",
        "\n",
        "            probs = F.softmax(logits, dim=-1)\n",
        "            idx_new = torch.multinomial(probs, num_samples=1)\n",
        "            idx = torch.cat([idx, idx_new], dim=-1)\n",
        "            if stop_token and idx_new.item() == end_id:\n",
        "                break\n",
        "        return idx\n",
        "\n",
        "# Create model, optimizer\n",
        "model = LanguageModel(vocab_size=VOCAB_SIZE, block_size=BLOCK_SIZE, n_emb=N_EMB, n_layers=N_LAYERS, \\\n",
        "    n_heads=N_HEADS, dropout=DROPOUT).to(device)\n",
        "\n",
        "print(f'Number of parameters {sum(p.numel() for p in model.parameters() if p.requires_grad)}')\n"
      ]
    },
    {
      "cell_type": "code",
      "execution_count": 12,
      "metadata": {
        "id": "5d8MVV6Azzxx",
        "colab": {
          "base_uri": "https://localhost:8080/"
        },
        "outputId": "1a0d738d-6f50-4917-8f1f-9e612b1fbe3a"
      },
      "outputs": [
        {
          "output_type": "stream",
          "name": "stdout",
          "text": [
            "/content/drive/My Drive/datasets/NLP/tiny_stories/english_tiny_stories_4layers_2.pth\n"
          ]
        }
      ],
      "source": [
        "model_path = os.path.join(data_path, \"english_tiny_stories_4layers_2.pth\")\n",
        "print(model_path)\n",
        "model = torch.load(model_path)"
      ]
    },
    {
      "cell_type": "code",
      "execution_count": 21,
      "metadata": {
        "colab": {
          "base_uri": "https://localhost:8080/"
        },
        "id": "sKRlCdwgzzxy",
        "outputId": "f54fb3c3-b9f4-4609-ca79-2e0676600286"
      },
      "outputs": [
        {
          "output_type": "stream",
          "name": "stdout",
          "text": [
            "Step: 0 Training Loss: 1.2261215448379517\n",
            "Validation loss: 1.128421664237976\n",
            "Step: 100 Training Loss: 1.221932291984558\n",
            "Validation loss: 1.1410911083221436\n",
            "Step: 200 Training Loss: 1.3988884687423706\n",
            "Validation loss: 1.1491354703903198\n",
            "Step: 300 Training Loss: 1.1345525979995728\n",
            "Validation loss: 1.1668723821640015\n",
            "Step: 400 Training Loss: 1.3599227666854858\n",
            "Validation loss: 1.1187361478805542\n",
            "Step: 500 Training Loss: 1.325697422027588\n",
            "Validation loss: 1.2319445610046387\n",
            "Step: 600 Training Loss: 1.221115231513977\n",
            "Validation loss: 1.1161452531814575\n",
            "Step: 700 Training Loss: 1.27701735496521\n",
            "Validation loss: 1.0766260623931885\n",
            "Step: 800 Training Loss: 1.3061267137527466\n",
            "Validation loss: 0.9964842200279236\n",
            "Step: 900 Training Loss: 1.311370611190796\n",
            "Validation loss: 1.2460650205612183\n",
            "Step: 1000 Training Loss: 1.3252227306365967\n",
            "Validation loss: 1.1362639665603638\n",
            "Step: 1100 Training Loss: 1.1369783878326416\n",
            "Validation loss: 1.2230286598205566\n",
            "Step: 1200 Training Loss: 1.1580464839935303\n",
            "Validation loss: 1.033205509185791\n",
            "Step: 1300 Training Loss: 1.405816912651062\n",
            "Validation loss: 1.1849241256713867\n",
            "Step: 1400 Training Loss: 1.1523739099502563\n",
            "Validation loss: 1.195902943611145\n",
            "Step: 1500 Training Loss: 1.1996033191680908\n",
            "Validation loss: 1.1497673988342285\n",
            "Step: 1600 Training Loss: 1.2327172756195068\n",
            "Validation loss: 1.1428736448287964\n",
            "Step: 1700 Training Loss: 1.4300131797790527\n",
            "Validation loss: 1.0743629932403564\n",
            "Step: 1800 Training Loss: 1.2606356143951416\n",
            "Validation loss: 0.9697145223617554\n",
            "Step: 1900 Training Loss: 1.192719578742981\n",
            "Validation loss: 1.1115823984146118\n",
            "Step: 2000 Training Loss: 1.127787709236145\n",
            "Validation loss: 1.1214677095413208\n",
            "Step: 2100 Training Loss: 1.362612247467041\n",
            "Validation loss: 1.1587361097335815\n",
            "Step: 2200 Training Loss: 1.0637493133544922\n",
            "Validation loss: 1.1699700355529785\n",
            "Step: 2300 Training Loss: 1.198954701423645\n",
            "Validation loss: 1.0691466331481934\n",
            "Step: 2400 Training Loss: 1.242357850074768\n",
            "Validation loss: 1.00653874874115\n",
            "Step: 2500 Training Loss: 1.3260647058486938\n",
            "Validation loss: 1.0941250324249268\n",
            "Step: 2600 Training Loss: 1.1268374919891357\n",
            "Validation loss: 1.020362377166748\n",
            "Step: 2700 Training Loss: 1.1090545654296875\n",
            "Validation loss: 1.038128137588501\n",
            "Step: 2800 Training Loss: 1.21434485912323\n",
            "Validation loss: 0.9719647169113159\n",
            "Step: 2900 Training Loss: 1.1584136486053467\n",
            "Validation loss: 1.3231420516967773\n",
            "Step: 3000 Training Loss: 1.0589406490325928\n",
            "Validation loss: 1.1954880952835083\n",
            "Step: 3100 Training Loss: 1.2142419815063477\n",
            "Validation loss: 1.0947855710983276\n",
            "Step: 3200 Training Loss: 1.1542645692825317\n",
            "Validation loss: 1.1842873096466064\n",
            "Step: 3300 Training Loss: 1.1582986116409302\n",
            "Validation loss: 1.0845811367034912\n",
            "Step: 3400 Training Loss: 1.0121017694473267\n",
            "Validation loss: 1.1959021091461182\n",
            "Step: 3500 Training Loss: 1.2246767282485962\n",
            "Validation loss: 0.9869951605796814\n",
            "Step: 3600 Training Loss: 1.2145940065383911\n",
            "Validation loss: 1.223557710647583\n",
            "Step: 3700 Training Loss: 1.2669423818588257\n",
            "Validation loss: 1.0809532403945923\n",
            "Step: 3800 Training Loss: 1.246809959411621\n",
            "Validation loss: 1.090184211730957\n",
            "Step: 3900 Training Loss: 1.2957909107208252\n",
            "Validation loss: 1.0739891529083252\n",
            "Step: 4000 Training Loss: 1.0365601778030396\n",
            "Validation loss: 0.9885940551757812\n",
            "Step: 4100 Training Loss: 1.2174575328826904\n",
            "Validation loss: 1.1173038482666016\n",
            "Step: 4200 Training Loss: 1.2423362731933594\n",
            "Validation loss: 1.0429326295852661\n",
            "Step: 4300 Training Loss: 1.2782014608383179\n",
            "Validation loss: 1.0851614475250244\n",
            "Step: 4400 Training Loss: 1.271499752998352\n",
            "Validation loss: 1.1300725936889648\n",
            "Step: 4500 Training Loss: 1.1371269226074219\n",
            "Validation loss: 1.0938913822174072\n",
            "Step: 4600 Training Loss: 1.1353615522384644\n",
            "Validation loss: 1.1277236938476562\n",
            "Step: 4700 Training Loss: 1.201910376548767\n",
            "Validation loss: 1.057233214378357\n",
            "Step: 4800 Training Loss: 1.1583685874938965\n",
            "Validation loss: 1.1611182689666748\n",
            "Step: 4900 Training Loss: 1.094627022743225\n",
            "Validation loss: 1.0149781703948975\n"
          ]
        }
      ],
      "source": [
        "EARLY_STOP = 50\n",
        "N_EPOCHS = 5000\n",
        "BATCH_SIZE = 32\n",
        "LEARNING_RATE = 3e-4\n",
        "optimizer = torch.optim.Adam(model.parameters(), lr=LEARNING_RATE)\n",
        "\n",
        "last_val_loss = 1e9\n",
        "early_stop = EARLY_STOP\n",
        "\n",
        "for steps in range(N_EPOCHS):\n",
        "    model.train()\n",
        "    xb, yb = get_batch(train_data, block_size=BLOCK_SIZE, batch_size=BATCH_SIZE)\n",
        "    xb = xb.to(device)\n",
        "    yb = yb.to(device)\n",
        "    logits, loss = model(xb, yb)\n",
        "    optimizer.zero_grad()\n",
        "    loss.backward()\n",
        "    optimizer.step()\n",
        "\n",
        "    # Delete xb, yb and free GPU memory\n",
        "    del xb, yb\n",
        "    torch.cuda.empty_cache()\n",
        "\n",
        "    if steps % 100 == 0:\n",
        "        print('Step:', steps, 'Training Loss:', loss.item())\n",
        "        val_loss = estimate_loss(model, val_data, block_size=BLOCK_SIZE, batch_size=BATCH_SIZE)\n",
        "        print('Validation loss:', val_loss)\n",
        "        # if val_loss >= last_val_loss:\n",
        "        #     early_stop -= 1\n",
        "        #     if early_stop == 0:\n",
        "        #         print('Early stop!')\n",
        "        #         break\n",
        "        # else:\n",
        "        #     early_stop = EARLY_STOP\n",
        "        #     last_val_loss = val_loss"
      ]
    },
    {
      "cell_type": "code",
      "execution_count": 22,
      "metadata": {
        "id": "dh2aOVX1zzxy"
      },
      "outputs": [],
      "source": [
        "model_path = os.path.join(data_path, \"english_tiny_stories_4layers_4.pth\")\n",
        "torch.save(model, model_path)"
      ]
    },
    {
      "cell_type": "code",
      "execution_count": 25,
      "metadata": {
        "colab": {
          "base_uri": "https://localhost:8080/"
        },
        "id": "XcCZ8RJ-zzxz",
        "outputId": "d61a4ffa-f02c-4454-a030-98428a6b70bd"
      },
      "outputs": [
        {
          "output_type": "stream",
          "name": "stdout",
          "text": [
            "Story  1 :\n",
            "Alice lost her chicken. She went outside to look for it. But it was dark. She felt scared and helpless. Suddenly, she saw a big animal in the corner. It was a big animal with sharp teeth and sharp teeth.Alice quickly ran to her mom and told her what she saw. Her mom hugged her and said, \"Don't worry, Alice. The animal won't hurt you. It won't hurt you. It won't hurt you.\"Alice felt better and felt better. She said goodbye and went back to her house. She was still worried about the animal. She couldn't believe that the animal had helped her.\n",
            "\n",
            "\n",
            "Story  2 :\n",
            "Alice lost her chicken. She went outside to look for it. But it was dark. She was so sad and scared that she started to cry.Alice's mom came outside and said, \"Don't worry, sweetheart. I'll help you.\"Alice was still crying, but she was still sad. She wanted to find her chicken. Then she had an idea. She went to the kitchen and found her chicken. She brought it inside and put it in a bowl. Then she went back outside to pick it up.But when she got there, she saw something unexpected. There was a chicken! The chicken was making the chicken happy.Alice was so happy and she hugged the chicken. She said, \"Thank you! You are so kind!\" The chicken was happy too. They both enjoyed the rest of the day together.\n",
            "\n",
            "\n",
            "Story  3 :\n",
            "Alice lost her chicken. She went outside to look for it. But it was dark. She looked up and saw the sun shining. She was so sad and scared.Alice asked her mom, \"Where is my chicken?\" Her mom replied, \"It's just a small bird. It's there to help you find your chicken.\"Alice looked around and saw the chicken. She was so happy! She ran over to pick it up.The chicken said, \"I found your chicken. I'm sorry I took it. I didn't know it was your chicken. I didn't mean to hurt it.\"Alice smiled and said, \"It's okay. I'm glad you didn't lose it.\"Alice and her mom went home and had a snack.\n",
            "\n",
            "\n",
            "Story  4 :\n",
            "Alice lost her chicken. She went outside to look for it. But it was dark. She started to feel scared and helpless. She ran inside her house and asked her mom, \"Mom, why is my chicken so dark?\" Her mom replied, \"It's okay sweetheart, we'll find it tomorrow.\"Alice felt better. She did not know that her mom had told her not to worry. She just wanted to find the chicken. So she went outside and looked under the trees. She found the chicken hiding in a bush.Alice was very happy. She put the chicken in her pocket and went back inside. She told her mom all about the chicken. Her mom said, \"That's very kind of you, Alice. Now let's go home and get you some fresh chicken.\"Alice and her mom went home and got a chicken. They were ready to go home and have a nice dinner.\n",
            "\n",
            "\n",
            "Story  5 :\n",
            "Alice lost her chicken. She went outside to look for it. But it was dark. She could not find it. She started to feel frustrated.Suddenly, she saw something in the sky. It was the chicken!Alice ran to the chicken and said, \"Hello, chicken! Do you want to be my friend?\" The chicken looked at Alice and said, \"I don't know. I just want to be your friend.\"Alice was so happy. She said, \"Yes, I want to be your friend.\"The chicken and Alice played together all day. They had so much fun. They were happy they had each other as friends.\n",
            "\n",
            "\n",
            "Story  6 :\n",
            "Alice lost her chicken. She went outside to look for it. But it was dark. She started to feel scared and helpless.Alice said, \"Where is my chicken going?\".Alice said, \"I'm scared of the dark.\"Alice said, \"Don't worry, let's look for it together.\"So they searched and searched until they found the chicken's chicken. It was sitting on a tree branch.Alice said, \"Hello, chicken! I'm here. I'm here to help you.\"Alice said, \"That's very nice of you, ostrich. I'm here to help you.\"The chicken smiled and said, \"You're welcome, Alice. I'll be here to help you.\"Alice and Alice went back to the house and the chicken took the chicken home. They were both very happy and grateful.\n",
            "\n",
            "\n",
            "Story  7 :\n",
            "Alice lost her chicken. She went outside to look for it. But it was dark. She was sad and scared.Suddenly, she heard a loud noise. It was a loud noise.Alice quickly ran to her mom and told her what she saw. Her mom said, “Don’t worry, I’ll help you.”Alice looked around and saw that the noise was not coming from the kitchen. Her mom had found the chicken!Alice was so happy. She hugged her mom and said, “Thank you, mom!”Her mom smiled and said, “You’re welcome, sweetheart. I’m glad you’ll help you. Now let’s go and get some ice cream. Then you can go home and have some ice cream.\"Alice smiled and said, “Okay!”\n",
            "\n",
            "\n",
            "Story  8 :\n",
            "Alice lost her chicken. She went outside to look for it. But it was dark. She started to feel scared.Suddenly, she saw a little mouse peeking out from behind a bush. She quickly ran over to her mom and told her about the mouse. His mom said, \"Don't worry, sweetheart. I'll help you find your chicken.\" She followed her mom to the house.When they got there, they found the chicken. It was so cute and friendly.Alice said, \"Thank you, mom, for helping me find my chicken.\" Her mom smiled and said, \"You're welcome, sweetheart. I'm glad you're safe.\"Alice smiled and said, \"You're welcome, Mommy. I'm glad I could help you.\"\n",
            "\n",
            "\n",
            "Story  9 :\n",
            "Alice lost her chicken. She went outside to look for it. But it was dark. She started to feel scared and helpless.Suddenly, she heard a noise coming from behind her. It was her chicken!Alice was so excited that she ran back inside. She hugged her chicken and said, \"Don't be scared, I will help you.\"Alice called out to the chicken, \"Come here, chicken! I'll take care of you.\"The chicken hopped on her back and followed Alice. Alice led the chicken to a safe place. The chicken was so happy to be back with its family.Alice said, \"You're welcome, chicken! I'll never forget you again.\" The chicken replied, \"Goodbye, Alice. I'll come back tomorrow!\"Alice waved goodbye and went back to her home. She was still frightened and scared, but she knew she had done a good thing.\n",
            "\n",
            "\n",
            "Story  10 :\n",
            "Alice lost her chicken. She went outside to look for it. But it was dark. She started to feel scared.Suddenly, she saw something in the distance. It was a big, scary monster! She was so scared and she ran away.Alice ran home and told her mom what happened. Her mom said, “Don’t worry, sweetheart. It’s just going to be alright.”Alice smiled and felt better. She was still scared. She wanted to go back and play. But her mom said, “It’s ok, I’ll help you.”Alice felt better. She hugged her mom and said, “I’m here to help you.”Her mom smiled and said, “I’m here to help you.”Alice felt better. She thanked her mom and went back outside.\n",
            "\n",
            "\n",
            "Story  11 :\n",
            "Alice lost her chicken. She went outside to look for it. But it was dark. She started to feel scared. She didn't know why she was so scared.Alice's mommy came outside and saw her. She asked, \"What's wrong, Alice?\"Alice said, \"I can't find my chicken. I'm scared.\" Mommy said, \"Don't worry, I'll help you find it.\"Mommy said, \"I know where the chicken is. Let's go and see if it's in the deep, dark forest.\"Alice and Mommy went deeper into the forest. They found a big tree with a hole in it. Alice looked inside and found her chicken! She was so happy to see her chicken again. She said, \"Thank you, Mommy!\" Mommy said, \"You're welcome, Alice. I'm glad you're safe.\"Alice went back to her mommy and told her about her adventure. Mommy was proud of her for helping her. They both knew that they had done a good thing.\n",
            "\n",
            "\n",
            "Story  12 :\n",
            "Alice lost her chicken. She went outside to look for it. But it was dark. She started to feel scared and helpless.Suddenly, she heard a voice. It was her chicken! \"Alice, why are you shivering?\"Alice looked up and saw a little bird perched on a branch. She asked, \"What are you doing here?\"Alice replied, \"I'm looking for my chicken. I am lost.\"The chicken said, \"I know where it is. Follow me!\"Alice followed the bird and they found the chicken's chicken. The chicken was so happy to be home. It thanked Alice and said goodbye.Alice was happy too. She had been brave and followed the bird.\n",
            "\n",
            "\n",
            "Story  13 :\n",
            "Alice lost her chicken. She went outside to look for it. But it was dark. She could not see her chicken anywhere. She started to feel scared. She started to cry.Then, she heard a voice. It was her chicken, who had come to help.The chicken said, \"Don't cry, I will help you.\"Alice was happy. She said, \"Thank you!\" and hurried off with the chicken.The chicken showed Alice how to make a nest. It was a lot of work.Alice was happy again. She said, \"Thank you for helping me.\"Alice smiled and said, \"You're welcome. I'm glad I could help you.\"\n",
            "\n",
            "\n",
            "Story  14 :\n",
            "Alice lost her chicken. She went outside to look for it. But it was dark. It was dark and cloudy. She started to feel scared.Her chicken asked her, \"Where is my chicken so sad?\"Alice replied, \"I don't know. Maybe I can help it.\"Alice felt better. She said, \"Let's look for it together.\"So they looked in the dark grass. Finally, they found the chicken near a big tree. Jamie was so happy. He said, \"Thank you for helping me.\"Alice and Alice became good friends. They played together every day. And they never lost each other again.\n",
            "\n",
            "\n",
            "Story  15 :\n",
            "Alice lost her chicken. She went outside to look for it. But it was dark. She started to feel scared. She wanted to go home.Alice said to herself, \"I'm scared! I don't want to go home.\" Suddenly, she heard a loud noise. She looked up and saw a big dog holding her chicken! She was scared but also very brave.Alice called out to the dog: \"Don't be scared, doggy! I'll protect you from the dog.\"The dog stopped barking and looked at Alice. It wagged its tail and licked her hand. It was friendly and friendly.Alice said, \"I'm so glad you're safe. I will protect you.\"Alice smiled and said, \"I'm glad you're safe now, doggy. I'm glad I could protect you.\"Alice and the dog became best friends. They would always protect each other and the dog protected her.\n",
            "\n",
            "\n",
            "Story  16 :\n",
            "Alice lost her chicken. She went outside to look for it. But it was dark. She could not see it. She started to feel sad.Alice started to cry. She wanted her chicken back. Then she saw her chicken. It was playing with a ball.Alice asked her chicken, \"Why are you crying?\" The chicken said, \"I lost my chicken. I miss it.\"Alice said, \"Don't cry, I will help you find your chicken.\"Alice and her chicken looked all around the garden. They looked under the trees and behind the bushes. Finally, they found the chicken. The chicken was so happy. They said, \"Thank you, Alice and chicken. You are very kind.\"Alice and her chicken were happy too. They played with the ball all day.\n",
            "\n",
            "\n",
            "Story  17 :\n",
            "Alice lost her chicken. She went outside to look for it. But it was dark. She was lost and alone.Alice was very scared and scared. She started to cry and she ran back to her mother. Her mother told her, \"Don't worry, Alice. I will help you.\" She took off her apron and wrapped it around her leg.Alice was so happy to be home. She said, \"Thank you, mother! You are so brave and kind.\"Her mother smiled and said, \"You're welcome, Alice. I'm glad I could help you.\"Alice smiled back and said, \"You're welcome, my dear. I'm glad I could help you. I'm so glad I could help you.\"Alice waved goodbye and went back to her mother.\n",
            "\n",
            "\n",
            "Story  18 :\n",
            "Alice lost her chicken. She went outside to look for it. But it was dark. \"Where is my chicken?\" she asked.Alice smiled and said, \"I don't know. Let's look for it together.\" She put on her coat and ran off to look for it.Alice saw a big tree with a hole in it. She thought, \"Maybe there is my chicken there.\" She went closer and saw the chicken. It was holding her chicken!Alice was scared. She wanted to get it back. She pulled the chicken out of the hole and ran away.Alice never found her chicken back.\n",
            "\n",
            "\n",
            "Story  19 :\n",
            "Alice lost her chicken. She went outside to look for it. But it was dark. She could not find it. She started to feel scared. She didn't know what to do.Suddenly, she saw a big dog. The dog had something in its mouth. It was her chicken! The chicken was scared.Alice quickly ran home and told her mom what she found. Her mom said she could give the chicken a hug. She said she would take it home and give it a warm hug.Alice's mom gave her a warm hug. She said she would give it a hug.Alice felt safe. She hugged her mom and said goodbye. She was happy that she had helped the dog. She went back to her house and told her all about the adventure.\n",
            "\n",
            "\n",
            "Story  20 :\n",
            "Alice lost her chicken. She went outside to look for it. But it was dark. She could not find it. She started to feel sad. She sat down and looked around. She saw a big tree with a hole in it. She thought the hole would be hiding there. Then, she heard a noise. It was her chicken! She was so happy. She ran inside to get her chicken. She started to eat it. It was so sweet and juicy.Alice ate and ate until she was full. She was not sad anymore. She was happy and not lost anymore.\n",
            "\n",
            "\n",
            "Story  21 :\n",
            "Alice lost her chicken. She went outside to look for it. But it was dark. She could not see anything. Suddenly, she saw that somebody had come out. She was so scared.Alice was very frightened. She ran back inside and hid in her bed.Her mom saw her and said, \"Don't worry, Alice. I'll help you.\" She put her arm around her and smiled. She said, \"I'll take care of your chicken. You can have it.\"Alice was relieved. She hugged her mom and said, \"Thank you for helping me.\" Her mom smiled and said, \"You're welcome, Alice. I'm glad you had a good night.\"Alice was happy to have her chicken back. She had a new friend.\n",
            "\n",
            "\n",
            "Story  22 :\n",
            "Alice lost her chicken. She went outside to look for it. But it was dark. She could not find it. Suddenly, she heard a loud voice.\"Hey, you little girl,\" said the voice.Alice looked up and saw a man with a big hat. He said, \"I found your chicken! I lost it in the park.\"Alice was so surprised. She said, \"Thank you, mister. I will help you find your chicken.\"The man smiled and said, \"You're welcome, little one. I will help you find your chicken.\"Alice and the man looked around the park. They looked under the trees and behind the bushes. Finally, they found the chicken near a big tree.Alice was so happy and thanked the man. She said, \"You're welcome, little one. I'm glad I could help you.\"Alice said goodbye and ran off to find her chicken.\n",
            "\n",
            "\n",
            "Story  23 :\n",
            "Alice lost her chicken. She went outside to look for it. But it was dark. She was very sad. Then, she heard a noise. It was a big dog. The dog was barking and chasing her.Alice was so scared. She ran inside and told her mom about the dog. Her mom said, \"Don't worry, it's just the dog.\"Alice ran inside and hugged her mom. She said, \"Mom, I found your chicken!\" Her mom smiled and said, \"That's very nice of you, Alice. I'm here to help you.\"Alice felt better. She knew that her mom was right. She said, \"Thank you, mom. I'll be more careful next time.\"\n",
            "\n",
            "\n",
            "Story  24 :\n",
            "Alice lost her chicken. She went outside to look for it. But it was dark. She could not see it anymore. She started to feel scared.Suddenly, she saw a big, scary shadow. She was scared. She looked around and saw a big bear! The bear was hungry and angry.Alice ran back to her mom and told her what she found. Her mom said she was sorry.Alice's mom hugged her and said she loved her. She said she was brave and brave.Alice felt better. She went back outside and went back to the house. She was happy to have her chicken back. She had her chicken and she never lost it again.\n",
            "\n",
            "\n",
            "Story  25 :\n",
            "Alice lost her chicken. She went outside to look for it. But it was dark. She started to feel scared.Suddenly, a big bear came out of nowhere. The bear said, \"That's my chicken! I need it!\"Alice was scared. She said, \"No, it's mine!\" The bear scowled and said, \"I'll give it back if you let me go!\"Alice was scared. She didn't know what to do. Then she remembered something her mom had told her. She said, \"No, you can't take your chicken. I'll give it back if you promise to give me my chicken.\"Alice thought about it for a moment. She said, \"Okay, I promise.\" The bear gave Alice his chicken, and Alice gave him the chicken.Alice was happy and said, \"Thank you, bear. You are very kind.\" The bear smiled and said, \"You're welcome, Alice. I'm glad I could help you. I'm glad I could give you my chicken. Now let's go and have some milk.\"Alice and the bear went inside and had a nap.\n",
            "\n",
            "\n",
            "Story  26 :\n",
            "Alice lost her chicken. She went outside to look for it. But it was dark. She could not see her chicken anymore. She started to feel sad and scared.She asked her mom, \"Mom, where is my chicken?\" Her mom said, \"I don't know. Maybe it is in the garden.\"Alice went inside and asked her mom, \"Mom, where is my chicken? I don't know where it is.\" Her mom said, \"I think it is near the flowers.\"Alice's mom said, \"Let's go and look for it together.\" They walked to the garden and looked under a bush. Finally, they found the chicken near the flowers.Alice was so happy! She said, \"Thank you, mom! You are a good friend.\" Her mom smiled and said, \"You're welcome, Alice. Now let's go home and have some hot chocolate. And we can have some yummy food and cookies together.\" And so, Alice and her mom went home, and Alice never lost her chicken again.\n",
            "\n",
            "\n",
            "Story  27 :\n",
            "Alice lost her chicken. She went outside to look for it. But it was dark. She could not see it anymore. She started to feel scared.Suddenly, her chicken spotted her. She quickly called out to her chicken, \"Mummy, I have a chicken!\"Mummy came running over and said, \"Don't worry, I have a special chicken for you. I have a special chicken for you. It will make you feel better.\"Alice was still scared, but she was still a bit scared, but she was happy. She hugged her chicken and said, \"Thank you Mummy, for helping me find my chicken. I hope you find it soon.\" Mummy smiled and said, \"You're welcome, sweetheart. I'm glad you found your chicken. You were very kind and kind.\"Alice smiled and said, \"Yes, Mummy. I'm so glad I found your chicken. I'm so glad I could help you.\" Mummy smiled back and said, \"That's good. Now let's go home and have some hot chocolate. We'll have a yummy meal together.\"\n",
            "\n",
            "\n",
            "Story  28 :\n",
            "Alice lost her chicken. She went outside to look for it. But it was dark. She could not see her chicken anymore. She was very sad.Alice asked her mom what was wrong. Her mom said, \"It's not nice to worry, but maybe someone lost it.\"Alice was so sad and she started to cry. Her mom came and said, \"Don't worry, Alice. Let's look for the chicken together.\" They looked all around the garden, but they couldn't find it. Then, they saw a big dog with the chicken in its mouth. It was holding the chicken!Alice was so happy to have her chicken back. She said, \"Thank you for helping me find my chicken!\"Her mom smiled and said, \"You're welcome, Alice. I'm glad you found your chicken.\"Alice was so happy that she hugged her mom. She said, \"I'm glad I could help you.\"\n",
            "\n",
            "\n",
            "Story  29 :\n",
            "Alice lost her chicken. She went outside to look for it. But it was dark.Alice was very sad. She didn't know why. Then, she saw something in the corner. It was a big, green frog!Alice followed the frog, but it was too far away. She started to feel sad and scared.Then she heard a voice. It was her chicken! She had seen her chicken and was holding her chicken.Alice said to her chicken, \"I found your chicken! I was looking for it. It was hiding somewhere in the water.\"The chicken was so happy. It jumped into the water and swam away.Alice was so happy that she hugged her chicken and said, \"Thank you for helping me find my chicken. You are so kind and helpful.\"\n",
            "\n",
            "\n",
            "Story  30 :\n",
            "Alice lost her chicken. She went outside to look for it. But it was dark. She started to cry and said, \"Where is my chicken?\"Suddenly, she heard a noise coming from the barn. She stopped crying and looked around. She saw a big cow. It was eating hay!Alice was so excited. She ran up to the cow and said, \"Hello, cow! What are you doing here?\" The cow replied, \"I'm looking for my chicken. I am stuck in this barn.\"Alice smiled. She said, \"That's a good idea, cow. I'm here to help you.\"Alice and the cow went inside the barn. They looked for the chicken's chicken's chicken. Finally, they found it near a big tree. The cow was so happy to be free. She said, \"Thank you, Alice and cow. You are very kind.\"Alice and the cow were happy too. They said, \"You're welcome, cow. I'm glad I could help you.\"The cow and the cow thanked Alice and the cow for their help. They went back to the barn, and Alice and the cow went to play.\n",
            "\n",
            "\n",
            "Story  31 :\n",
            "Alice lost her chicken. She went outside to look for it. But it was dark. She could not see it anymore. She started to feel sad.Alice asked her mom, \"Mom, where is my chicken?\" Her mom said, \"I don't know, Alice. Maybe it is in the garden.\"Alice asked her mom, \"Mom, do you see my chicken so sad?\" Her mom said, \"No, I did not know. Maybe it is in the garden.\"Alice was still sad. She wanted to cry. She said, \"But mom, I don't know where it is.\" Her mom hugged her and said, \"Don't worry, Alice. We will find your chicken.\"Alice and her mom looked all around the garden. Then, they found the chicken near a big tree. The chicken was so happy! It said, \"Thank you, Alice and mom, for helping me find my chicken.\"Alice and her mom were happy too. They learned that when you are sad, you can ask for help when you need it. And Alice and her mom learned that being different can make you feel happy and strong.\n",
            "\n",
            "\n",
            "Story  32 :\n",
            "Alice lost her chicken. She went outside to look for it. But it was dark. She started to feel scared. She started to cry.Suddenly, she heard a voice. It was her chicken! She looked up and saw the chicken. She was so happy to see her chicken back.Alice said to her chicken, \"I found your chicken. It was in the garden.\" The chicken said, \"That is my chicken and I lost it.\"Alice smiled and said, \"That's my chicken. I lost it in the garden.\"Alice said, \"What is your name, chicken?\"The chicken said, \"I'm Lily. I'm so glad to see it.\"Alice said, \"That's right. I'm glad you found it. I'm glad that you found it.\"Alice said, \"Me too. I'm glad I found it. We can still be friends.\"\n",
            "\n",
            "\n",
            "Story  33 :\n",
            "Alice lost her chicken. She went outside to look for it. But it was dark. She couldn't find it. She started to feel sad and scared.Alice walked slowly and quietly. She saw a big tree with a hole in it. She thought it might be the chicken there there. She went closer and closer. She saw the chicken! She was so happy.Alice said hello to the chicken. The chicken looked at her and said, \"I'm sorry I lost my chicken. I was hungry and I can't find it.\"Alice felt so happy. She said, \"That's okay, ostrich. I'll help you find your chicken.\"Alice and the chicken walked together until they found the chicken's chicken. The chicken was so happy, and thankedAlice for her help.Alice said goodbye to the chicken and went back home. She never lost her chicken again.\n",
            "\n",
            "\n",
            "Story  34 :\n",
            "Alice lost her chicken. She went outside to look for it. But it was dark. She started to feel scared. She didn't know what to do. Suddenly, she saw a big white balloon floating in the air. It was so shiny and sparkly.Alice thought it was a toy. She ran to it and picked it up. She wanted to show it to her mom.Alice ran back inside to show her mom the balloon. Her mom smiled and said, \"That's a great find. Let's go show it to Mommy.\"Alice ran to Mommy and she showed her the balloon. Mommy was surprised and said, \"Oh, this is a nice balloon.\"Alice was so happy she hugged Mommy. She said, \"That's wonderful, Mommy. I'm so glad I found it.\" Mommy smiled and said, \"That's great, Alice. Now let's go to the park now.\"Alice was so happy. She ran to the park and saw her friends. They all played together and had lots of fun. They had a great time, and Alice never lost her chicken again.\n",
            "\n",
            "\n",
            "Story  35 :\n",
            "Alice lost her chicken. She went outside to look for it. But it was dark. She was so sad.Then she heard a noise coming from the bushes. She looked and saw a little bunny hopping around the corner.Alice said, \"Hello, bunny. Why are you so sad?\"The bunny replied, \"I lost my chicken. I can't find it.\"Alice said, \"I will help you find your chicken.\"Alice and the bunny looked for the chicken's chicken. They looked under the trees and behind the bushes. Finally, they found it by a big tree. The bunny was so happy.The bunny said, \"Thank you, Alice and bunny. You are very kind.\"Alice and the bunny became good friends. They played together every day.\n",
            "\n",
            "\n",
            "Story  36 :\n",
            "Alice lost her chicken. She went outside to look for it. But it was dark. She was lost and scared.Alice started to feel scared. She didn't know why, so she called for her mom. Her mom came running to her and asked, \"Why are you so worried, Alice?\"Alice said, \"I'm scared of the dark.\" Her mom smiled and said, \"Don't worry, I'll help you find your chicken.\"So, Alice and her mom looked all around the garden. They looked under the trees and behind the bushes. Finally, they found the chicken. Alice was so happy! She hugged her mom and said, \"Thank you for helping me.\" Her mom said, \"You're welcome, sweetheart. I'm glad I could help you.\"Alice was happy too. She learned that when you are scared, you can still be brave and help others.\n",
            "\n",
            "\n",
            "Story  37 :\n",
            "Alice lost her chicken. She went outside to look for it. But it was dark. She looked under the trees and behind the bushes. Then she saw something in the grass. It was a small, thin snake.Alice smiled and picked it up. It was so soft and warm. She wanted to keep it, but it was too heavy.Alice thought of a plan. She took the snake to her mom and said, \"Mom, can I keep the snake?\" Her mom smiled and said, \"Yes, you can keep it, but you have to give it back. It is not safe.\"Alice took the snake to her room and put it on the table. She looked at it and smiled. She loved her onion. She said, \"Thank you, Mom. I will keep it safe.\"\n",
            "\n",
            "\n",
            "Story  38 :\n",
            "Alice lost her chicken. She went outside to look for it. But it was dark. She could not see her chicken anywhere. She started to feel scared. She started to cry.Suddenly, a big bird flew by. The bird said, \"Don't cry, Alice. I will help you find your chicken. Come with me!\"Alice followed the bird and they looked for the chicken's chicken. They looked under rocks and behind bushes. Finally, they found it near a tree.Alice was so happy to see her chicken safe. She hugged it tight and said, \"Thank you, bird!\" The bird said, \"You're welcome, Alice. I'm glad you're okay.\"Alice smiled and said, \"You're welcome, Alice. I'm glad I could help you.\"\n",
            "\n",
            "\n",
            "Story  39 :\n",
            "Alice lost her chicken. She went outside to look for it. But it was dark. She started to feel scared, so she asked her mom, \"Mommy, where is my chicken?\" Her mom replied, \"It's me, sweetheart. I'll help you find it.\"Alice looked around for the chicken. She looked under the trees and in the bushes. Finally, she found it. She was so happy! She ran back inside and showed her mom. Her mom said, \"That's a very good idea, Alice.\"Alice was happy and excited. She ran back outside and found her chicken. She was so happy to have it back. She knew that the chicken was still there to help her.\n",
            "\n",
            "\n",
            "Story  40 :\n",
            "Alice lost her chicken. She went outside to look for it. But it was dark. She looked around and saw a big tree with a branch. She thought it would be a good place to hide.Alice went to the branch and found a branch. She sat on it and looked around. She saw a big bird flying in the sky. The bird was singing a sweet song.Alice wanted to listen to the bird, but she was too scared to listen. She called out to the bird, \"Please help me hear my song!\" The bird looked at Alice and said, \"I can help you. I can whistle a song for you.\"Alice whistled a beautiful song. The bird was so happy and sang a beautiful song.Alice was so happy and thanked the bird. She said, \"You're welcome, bird. I'm glad I could help you.\" The bird flew away and flew away.Alice went home with a big smile on her face. She knew she had done a good thing.\n",
            "\n",
            "\n",
            "Story  41 :\n",
            "Alice lost her chicken. She went outside to look for it. But it was dark. She could not see it anymore. She was sad and started to cry.Just then, a friendly butterfly flew by. It said, \"Don't cry, Alice. I saw your chicken. I can help you find it.\"Alice was happy and excited. She said, \"Yes please!\" The butterfly led her to her home. Inside, she found her chicken. It was so happy to see her chicken. She said, \"Thank you, butterfly!\"Alice learned that it is good to help others, even if they are scary.\n",
            "\n",
            "\n",
            "Story  42 :\n",
            "Alice lost her chicken. She went outside to look for it. But it was dark. She began to feel scared and helpless. Then she heard a noise coming from the bushes. She looked around and saw a big, scary animal. She was so scared and ran back to her mom. Her mom hugged her and said, \"Don't worry, sweetheart. It's just a friendly animal. It won't hurt you.\"Alice felt better. She got out of bed and ran inside. She was still scared, but she was still a bit brave. She knew that she could trust the animal, but she was still a bit scared.\n",
            "\n",
            "\n",
            "Story  43 :\n",
            "Alice lost her chicken. She went outside to look for it. But it was dark. She could not find it anywhere. She was very sad and started to cry.Suddenly, a small voice said, \"Don't cry, I'll help you find your chicken.\"Alice looked up and saw a small bird. She said, \"I know where your chicken is!\" The bird led her to a big tree with a beehive on it.Alice was so happy! She thanked the bird and ran back to her house. She told her mom about the bird and the beehive. Her mom said, \"That's a very nice idea, Alice.\"Alice was so happy and hugged her mom. She said, \"Thank you, bird!\" Then she went back to her house and told her all about her adventure.\n",
            "\n",
            "\n",
            "Story  44 :\n",
            "Alice lost her chicken. She went outside to look for it. But it was dark. She was so scared that she started to cry.Alice asked her mum what had happened. Mum told her that she had lost her chicken.Alice said, \"Mum, I will help you find it.\" Mum looked around for her chicken. She saw a big tree with her chicken on it. She reached up and plucked the chicken.Alice was so happy! She hugged her chicken and said, \"Thank you Mum. You are a good helper.\" Mum smiled and said, \"You're welcome, sweetheart. I'm glad you're safe.\"Alice smiled and said, \"I'm glad I could help you.\"\n",
            "\n",
            "\n",
            "Story  45 :\n",
            "Alice lost her chicken. She went outside to look for it. But it was dark. She couldn't find it anywhere. She started to feel sad.Alice asked her mom, \"Where is my chicken?\" Her mom said, \"It's me, sweetheart. Let's go and find it.\"Alice followed her mom and they walked through the forest. There, she found her chicken! She was so happy to see her chicken again.Alice said, \"Thank you, mom! You are the best chicken ever!\" Her mom smiled and said, \"You're welcome. I'm glad you're here.\"Alice and her mom went back home. Alice's mom had a big dinner with them. They had a fun dinner together.\n",
            "\n",
            "\n",
            "Story  46 :\n",
            "Alice lost her chicken. She went outside to look for it. But it was dark. She could not see her chicken anywhere. She started to feel sad and scared.Alice asked her mom, \"Mom, why is my chicken so dark?\" Her mom said, \"It's not safe to go too far away. You must stay away from it and not go too far.\"Alice was still sad and scared. She looked around and noticed a big tree. She thought, \"Maybe I can climb it up and see if there is my chicken here.\" So, she climbed the tree and found her chicken.Alice was so happy! She said, \"Thank you, mom, for helping me find my chicken.\" Her mom smiled and said, \"You're welcome, Alice. I'm glad I could help you.\"Alice smiled and waved goodbye. She went back home and told her friends about the adventure she had found.\n",
            "\n",
            "\n",
            "Story  47 :\n",
            "Alice lost her chicken. She went outside to look for it. But it was dark. She was so sad and confused.Then, she saw something in the sky. It was a big bird! The bird was flying around.Alice was so excited and she was so excited. She ran to her mom and told her about the bird. Her mom smiled and said, \"That bird is so nice, Alice.\"Alice and her mom watched the bird fly away. Then, they went back to the park and Alice's mom told her all about the bird. She was so happy to see it again.Alice's mom said, \"That bird is so lucky to have found your chicken! I hope you have it.\"Alice was so happy. She hugged her mom and said, \"I love it so much!\"\n",
            "\n",
            "\n",
            "Story  48 :\n",
            "Alice lost her chicken. She went outside to look for it. But it was dark. She started to feel scared and started to cry.Then she saw a big, soft cushion on the ground. She picked it up and put it in her pocket. She smiled and thought, \"I found your chicken!\"Alice ran inside to tell her mom about the cushion. Her mom was happy and said, \"That's the cushion, Alice. It's very special. You should always keep it safe.\"Alice smiled and said, \"I will remember, Mommy.\" She put the cushion in her pocket and went back to play with her friends. They all had a great day, and Alice was not scared anymore.\n",
            "\n",
            "\n",
            "Story  49 :\n",
            "Alice lost her chicken. She went outside to look for it. But it was dark. She was scared and started to cry.Then, she saw a big white box on the ground. She picked it up and saw that it was a magic hat.Alice put the hat on her head and said, \"I wish my chicken would have more space for me.\" Suddenly, she heard a voice. It was her chicken! The chicken said, \"I can make your wish come true. What do you wish for?\"Alice said, \"I wish my chicken would never be scared again.\" The chicken smiled and said, \"Your wish is true. I wish you had a true wish.\"Alice said, \"I wish my chicken would be happy.\" The chicken waved its wings, and the chicken began to appear.Alice was so happy and thanked the chicken. She wished for a new friend. The chicken said, \"I wish I could be your friend. You are very kind.\"Alice and the chicken played together all day long. They were very happy.\n",
            "\n",
            "\n",
            "Story  50 :\n",
            "Alice lost her chicken. She went outside to look for it. But it was dark. She could not see the rain or the trees. She started to feel scared and helpless.Alice saw a big, green frog sitting in the grass. The frog was hiding in the grass.Alice wanted to help the frog. She picked up the frog and said, \"Don't worry, frog. I will help you.\" She picked up the frog and put it in her pocket. She gave it food and water. The frog was happy. It jumped into the water and swam away.Alice and the frog became good friends. They played together every day.\n",
            "\n",
            "\n"
          ]
        }
      ],
      "source": [
        "starting_tokens = 'Alice lost her chicken. She went outside to look for it. But it was dark.'\n",
        "\n",
        "encoded_start = tokenizer.encode(starting_tokens).ids\n",
        "encoded_start.pop(-1)\n",
        "len_starting_tokens = len(encoded_start)\n",
        "\n",
        "idx = torch.tensor(encoded_start).reshape(1, len_starting_tokens).to(device)\n",
        "model.eval()\n",
        "N_SAMPLES = 50\n",
        "for _ in range(N_SAMPLES):\n",
        "    generation = model.generate(idx, max_new_tokens=1000, block_size=BLOCK_SIZE, temperature=0.5, stop_token=True)[0].tolist()\n",
        "    story = tokenizer.decode(generation, skip_special_tokens=True)\n",
        "\n",
        "    print('Story ', _ + 1, ':')\n",
        "    print(story)\n",
        "    print('\\n')\n",
        "\n",
        "\n",
        "\n",
        "\n"
      ]
    }
  ],
  "metadata": {
    "colab": {
      "provenance": [],
      "machine_shape": "hm",
      "gpuType": "V100",
      "include_colab_link": true
    },
    "kernelspec": {
      "display_name": "Python 3",
      "name": "python3"
    },
    "language_info": {
      "codemirror_mode": {
        "name": "ipython",
        "version": 3
      },
      "file_extension": ".py",
      "mimetype": "text/x-python",
      "name": "python",
      "nbconvert_exporter": "python",
      "pygments_lexer": "ipython3",
      "version": "3.10.6"
    },
    "accelerator": "GPU"
  },
  "nbformat": 4,
  "nbformat_minor": 0
}