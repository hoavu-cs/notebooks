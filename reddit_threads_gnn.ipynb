{
 "cells": [
  {
   "cell_type": "code",
   "execution_count": 77,
   "metadata": {},
   "outputs": [
    {
     "name": "stdout",
     "output_type": "stream",
     "text": [
      "2.0.1+cu117\n",
      "11.7\n",
      "cuda\n"
     ]
    }
   ],
   "source": [
    "# Dataset https://snap.stanford.edu/data/reddit_threads.html\n",
    "import torch\n",
    "from torch import nn as nn\n",
    "import torch.nn.functional as F\n",
    "from torch.nn import Linear\n",
    "import numpy as np\n",
    "import pandas as pd\n",
    "import json \n",
    "from torch_geometric.nn import GCNConv, TopKPooling, global_mean_pool\n",
    "from torch_geometric.nn import global_mean_pool as gap, global_max_pool as gmp\n",
    "from torch_geometric.data import DataLoader, Data\n",
    "import warnings\n",
    "import matplotlib.pyplot as plt\n",
    "import networkx as nx\n",
    "\n",
    "print(torch.__version__)\n",
    "print(torch.version.cuda)\n",
    "device = torch.device('cuda' if torch.cuda.is_available() else 'cpu')\n",
    "print(device)"
   ]
  },
  {
   "cell_type": "code",
   "execution_count": 109,
   "metadata": {},
   "outputs": [
    {
     "name": "stdout",
     "output_type": "stream",
     "text": [
      "(200000, 2)\n"
     ]
    }
   ],
   "source": [
    "filename_graphs = 'datasets/reddit_threads/reddit_edges.json'\n",
    "filename_targets = 'datasets/reddit_threads/reddit_target.csv'\n",
    "\n",
    "labels = pd.read_csv(filename_targets)\n",
    "# Load the data\n",
    "with open(filename_graphs, 'r') as f:\n",
    "    graphs = json.load(f)\n",
    "\n",
    "num_sample = 200000\n",
    "labels = labels[:num_sample]\n",
    "print(labels.shape)\n",
    "graphs = {k: graphs[str(k)] for k in labels['id'][:num_sample]}\n",
    "\n"
   ]
  },
  {
   "cell_type": "code",
   "execution_count": 110,
   "metadata": {},
   "outputs": [],
   "source": [
    "data_list = []\n",
    "y = labels['target'].values\n",
    "num_features = 5\n",
    "\n",
    "for idx, edge_list in graphs.items():\n",
    "    edge_index = torch.tensor(edge_list, dtype=torch.long).t().contiguous().view(2, -1)\n",
    "    label = torch.tensor(y[int(idx)])\n",
    "    num_nodes = edge_index.max().item() + 1\n",
    "    x = torch.zeros(num_nodes, num_features)\n",
    "    G = nx.from_edgelist(edge_list)\n",
    "\n",
    "    # Compute the centrality measures as node features\n",
    "    degree_centrality = nx.degree_centrality(G)\n",
    "    betweenness_centrality = nx.betweenness_centrality(G)\n",
    "    closeness_centrality = nx.closeness_centrality(G)\n",
    "    eigenvector_centrality = nx.eigenvector_centrality(G, tol=1e-3, max_iter=150)\n",
    "    clustering_coefficient = nx.clustering(G)\n",
    "    \n",
    "    for i in range(num_nodes):\n",
    "        if i not in degree_centrality:\n",
    "            degree_centrality[i] = 0\n",
    "        else:\n",
    "            degree_centrality[i] = degree_centrality[i]\n",
    "        if i not in betweenness_centrality:\n",
    "            betweenness_centrality[i] = 0\n",
    "        else:\n",
    "            betweenness_centrality[i] = betweenness_centrality[i]\n",
    "        if i not in closeness_centrality:\n",
    "            closeness_centrality[i] = 0\n",
    "        else:\n",
    "            closeness_centrality[i] = closeness_centrality[i]\n",
    "        if i not in eigenvector_centrality:\n",
    "            eigenvector_centrality[i] = 0\n",
    "        else:\n",
    "            eigenvector_centrality[i] = eigenvector_centrality[i]\n",
    "        if i not in clustering_coefficient:\n",
    "            clustering_coefficient[i] = 0\n",
    "        else:\n",
    "            clustering_coefficient[i] = clustering_coefficient[i]\n",
    "        \n",
    "        x[i][0] = degree_centrality[i]\n",
    "        x[i][1] = betweenness_centrality[i]\n",
    "        x[i][2] = closeness_centrality[i]\n",
    "        x[i][3] = eigenvector_centrality[i]\n",
    "        x[i][4] = clustering_coefficient[i]\n",
    "\n",
    "    G = nx.from_edgelist(edge_list)\n",
    "    data_list.append(Data(edge_index=edge_index, y=label, x=x))\n"
   ]
  },
  {
   "cell_type": "code",
   "execution_count": 105,
   "metadata": {},
   "outputs": [
    {
     "name": "stdout",
     "output_type": "stream",
     "text": [
      "tensor([[ 0,  1,  1,  2,  2,  3,  4,  5,  6,  6,  7,  8,  8,  8,  8,  8,  8,  8,\n",
      "          8,  8, 10, 11],\n",
      "        [ 8,  8, 11,  8, 10,  8,  8,  8,  8, 17,  8,  8,  9, 11, 12, 13, 14, 15,\n",
      "         16, 17, 12, 17]])\n",
      "tensor(1)\n",
      "tensor([[0.0588, 0.0000, 0.5000, 0.1500, 0.0000],\n",
      "        [0.1176, 0.0000, 0.5152, 0.2007, 1.0000],\n",
      "        [0.1176, 0.0551, 0.5312, 0.1645, 0.0000],\n",
      "        [0.0588, 0.0000, 0.5000, 0.1500, 0.0000],\n",
      "        [0.0588, 0.0000, 0.5000, 0.1500, 0.0000],\n",
      "        [0.0588, 0.0000, 0.5000, 0.1500, 0.0000],\n",
      "        [0.1176, 0.0000, 0.5152, 0.2007, 1.0000],\n",
      "        [0.0588, 0.0000, 0.5000, 0.1500, 0.0000],\n",
      "        [1.0588, 0.9522, 0.9444, 0.7196, 0.0250],\n",
      "        [0.0588, 0.0000, 0.5000, 0.1500, 0.0000],\n",
      "        [0.1176, 0.0037, 0.3696, 0.0693, 0.0000],\n",
      "        [0.1765, 0.0037, 0.5312, 0.2427, 0.6667],\n",
      "        [0.1176, 0.0551, 0.5312, 0.1645, 0.0000],\n",
      "        [0.0588, 0.0000, 0.5000, 0.1500, 0.0000],\n",
      "        [0.0588, 0.0000, 0.5000, 0.1500, 0.0000],\n",
      "        [0.0588, 0.0000, 0.5000, 0.1500, 0.0000],\n",
      "        [0.0588, 0.0000, 0.5000, 0.1500, 0.0000],\n",
      "        [0.1765, 0.0037, 0.5312, 0.2427, 0.6667]])\n"
     ]
    }
   ],
   "source": [
    "print(data_list[12].edge_index)\n",
    "print(data_list[12].y)\n",
    "print(data_list[12].x)\n",
    "\n"
   ]
  },
  {
   "cell_type": "code",
   "execution_count": 106,
   "metadata": {},
   "outputs": [],
   "source": [
    "embedding_size = 16\n",
    "\n",
    "class GNN(nn.Module):\n",
    "    def __init__(self):\n",
    "        super().__init__()\n",
    "        torch.manual_seed(12345)\n",
    "\n",
    "        self.initial_conv = GCNConv(num_features, embedding_size)\n",
    "        self.conv1 = GCNConv(embedding_size, embedding_size)\n",
    "        self.conv2 = GCNConv(embedding_size, embedding_size)\n",
    "\n",
    "        self.fc1 = nn.Linear(embedding_size*2, 16)\n",
    "        self.fc2 = nn.Linear(16, 32)\n",
    "        self.fc3 = nn.Linear(32, 64)\n",
    "        self.out = nn.Linear(64, 2)\n",
    "    \n",
    "    def forward(self, x, edge_index, batch_index):\n",
    "        x = self.initial_conv(x, edge_index)\n",
    "        x = F.relu(x)\n",
    "        x = self.conv1(x, edge_index)\n",
    "        x = F.relu(x)\n",
    "        x = self.conv2(x, edge_index)\n",
    "        x = F.relu(x)\n",
    "\n",
    "        x = torch.cat([gmp(x, batch_index), gap(x, batch_index)], dim=1)\n",
    "        x = F.relu(self.fc1(x))\n",
    "        x = F.relu(self.fc2(x))\n",
    "        x = F.relu(self.fc3(x))\n",
    "        out = self.out(x)\n",
    "\n",
    "        return out, x"
   ]
  },
  {
   "cell_type": "code",
   "execution_count": 101,
   "metadata": {},
   "outputs": [],
   "source": [
    "def evaluate(model, val_loader):\n",
    "    model.eval()\n",
    "    predictions = []\n",
    "    labels = []\n",
    "    correct = 0\n",
    "    total = 0\n",
    "\n",
    "    with torch.no_grad():\n",
    "        for data in val_loader:\n",
    "            data = data.to(device)\n",
    "            output, embedding = model(data.x, data.edge_index, data.batch)\n",
    "            for i in range(len(output)):\n",
    "                prediction = torch.argmax(output[i])\n",
    "                if prediction == data.y[i]:\n",
    "                    correct += 1\n",
    "                total += 1\n",
    "    return correct/total\n",
    "                \n"
   ]
  },
  {
   "cell_type": "code",
   "execution_count": 113,
   "metadata": {},
   "outputs": [
    {
     "name": "stdout",
     "output_type": "stream",
     "text": [
      "GNN(\n",
      "  (initial_conv): GCNConv(5, 16)\n",
      "  (conv1): GCNConv(16, 16)\n",
      "  (conv2): GCNConv(16, 16)\n",
      "  (fc1): Linear(in_features=32, out_features=16, bias=True)\n",
      "  (fc2): Linear(in_features=16, out_features=32, bias=True)\n",
      "  (fc3): Linear(in_features=32, out_features=64, bias=True)\n",
      "  (out): Linear(in_features=64, out_features=2, bias=True)\n",
      ")\n",
      "Epoch:  0 , Cross entropy loss:  0.4331711232662201\n",
      "Accuracy at epoch 0 on validation set: 0.760625\n",
      "Accuracy at epoch 1 on validation set: 0.76465\n",
      "Accuracy at epoch 2 on validation set: 0.766225\n",
      "Accuracy at epoch 3 on validation set: 0.765975\n",
      "Accuracy at epoch 4 on validation set: 0.76845\n",
      "Accuracy at epoch 5 on validation set: 0.769625\n",
      "Accuracy at epoch 6 on validation set: 0.7692\n",
      "Accuracy at epoch 7 on validation set: 0.7695\n",
      "Accuracy at epoch 8 on validation set: 0.7698\n",
      "Accuracy at epoch 9 on validation set: 0.770575\n",
      "Accuracy at epoch 10 on validation set: 0.770825\n",
      "Accuracy at epoch 11 on validation set: 0.77\n",
      "Accuracy at epoch 12 on validation set: 0.7707\n",
      "Accuracy at epoch 13 on validation set: 0.767575\n",
      "Accuracy at epoch 14 on validation set: 0.770875\n",
      "Accuracy at epoch 15 on validation set: 0.771475\n",
      "Accuracy at epoch 16 on validation set: 0.7715\n",
      "Accuracy at epoch 17 on validation set: 0.771125\n",
      "Accuracy at epoch 18 on validation set: 0.771075\n",
      "Accuracy at epoch 19 on validation set: 0.771675\n",
      "Accuracy at epoch 20 on validation set: 0.771175\n"
     ]
    }
   ],
   "source": [
    "warnings.filterwarnings('ignore')\n",
    "model = GNN().to(device)\n",
    "print(model)\n",
    "\n",
    "loss_fn = nn.CrossEntropyLoss()\n",
    "optimizer = torch.optim.Adam(model.parameters(), lr=0.0001)\n",
    "\n",
    "data_size = len(data_list)\n",
    "batch_size = 64\n",
    "\n",
    "train_loader = DataLoader(data_list[:int(data_size*0.6)], batch_size=batch_size, shuffle=True)\n",
    "val_loader = DataLoader(data_list[int(data_size*0.6):int(data_size*0.8)], batch_size=batch_size, shuffle=True)\n",
    "test_loader = DataLoader(data_list[int(data_size*0.8):], batch_size=batch_size, shuffle=True)\n",
    "epochs = 1000\n",
    "loss_over_time = []\n",
    "delay = 0\n",
    "delay_threshold = 5\n",
    "max_accuracy = 0\n",
    "\n",
    "for epoch in range(epochs+1):\n",
    "    for batch in train_loader:\n",
    "        batch.to(device)\n",
    "        model.zero_grad()\n",
    "        pred, embedding = model(batch.x, batch.edge_index, batch.batch)\n",
    "        loss = loss_fn(pred, batch.y)\n",
    "        loss.backward()\n",
    "        optimizer.step()\n",
    "    if epoch % 100 == 0:\n",
    "        print('Epoch: ', epoch, ', Cross entropy loss: ', loss.item())\n",
    "    # Early stopping\n",
    "    current_accuracy = evaluate(model, val_loader)\n",
    "    if current_accuracy < max_accuracy:\n",
    "        delay += 1\n",
    "        if delay >= delay_threshold:\n",
    "            print(f'Early stopping at epoch {epoch}')\n",
    "            break\n",
    "    else:\n",
    "        delay = 0\n",
    "        max_accuracy = current_accuracy\n",
    "    print(f'Accuracy at epoch {epoch} on validation set: {current_accuracy}')\n",
    "    loss_over_time.append(loss.item())\n",
    "\n",
    "plt.plot(loss_over_time)\n",
    "    "
   ]
  },
  {
   "cell_type": "code",
   "execution_count": 112,
   "metadata": {},
   "outputs": [
    {
     "name": "stdout",
     "output_type": "stream",
     "text": [
      "0.77465\n"
     ]
    }
   ],
   "source": [
    "print(evaluate(model, test_loader))"
   ]
  }
 ],
 "metadata": {
  "kernelspec": {
   "display_name": "Python 3",
   "language": "python",
   "name": "python3"
  },
  "language_info": {
   "codemirror_mode": {
    "name": "ipython",
    "version": 3
   },
   "file_extension": ".py",
   "mimetype": "text/x-python",
   "name": "python",
   "nbconvert_exporter": "python",
   "pygments_lexer": "ipython3",
   "version": "3.10.6"
  },
  "orig_nbformat": 4
 },
 "nbformat": 4,
 "nbformat_minor": 2
}
