{
  "cells": [
    {
      "cell_type": "code",
      "execution_count": 74,
      "metadata": {
        "id": "ajtA8sHYXBMF"
      },
      "outputs": [],
      "source": [
        "import pandas as pd\n",
        "import numpy as np\n",
        "from sklearn.tree import DecisionTreeClassifier\n",
        "from sklearn.feature_extraction.text import CountVectorizer, TfidfVectorizer\n",
        "from sklearn.impute import SimpleImputer\n",
        "from sklearn.preprocessing import OneHotEncoder\n",
        "from sklearn.metrics import accuracy_score\n",
        "from sklearn.metrics import confusion_matrix\n",
        "from sklearn.ensemble import RandomForestClassifier, BaggingClassifier, GradientBoostingClassifier\n",
        "from sklearn.model_selection import train_test_split, KFold, cross_val_score\n",
        "from sklearn.preprocessing import LabelEncoder\n",
        "from sklearn.feature_extraction.text import TfidfVectorizer\n",
        "from sklearn.ensemble import AdaBoostClassifier\n",
        "from sklearn.metrics import accuracy_score, confusion_matrix, classification_report\n",
        "from xgboost import XGBClassifier"
      ]
    },
    {
      "cell_type": "code",
      "execution_count": 12,
      "metadata": {
        "colab": {
          "base_uri": "https://localhost:8080/"
        },
        "id": "N2cnVom2H2tS",
        "outputId": "d40a3f8b-deb2-4968-862d-e14c68a4c16e"
      },
      "outputs": [],
      "source": [
        "# Read in the data and drop empty rows (does not quite make sense to clasify these)\n",
        "data = pd.read_csv(r'Phishing_Email.csv', encoding='latin-1')\n",
        "data.dropna(inplace=True)\n",
        "\n",
        "# vectorize text data and put labels in the right format\n",
        "vectorizer = CountVectorizer()\n",
        "y = data['Email Type'].values\n",
        "for i in range(len(y)):\n",
        "  if y[i] == 'Phishing Email':\n",
        "    y[i] = 1\n",
        "  else:\n",
        "    y[i] = 0\n",
        "\n",
        "X = data['Email Text'].values\n",
        "X = vectorizer.fit_transform(X)\n",
        "\n",
        "# Split train an test data\n",
        "X_train, X_test, y_train, y_test = train_test_split(X, y, test_size=0.2, random_state=42)\n",
        "label_encoder = LabelEncoder()\n",
        "y_train = label_encoder.fit_transform(y_train)\n",
        "y_test = label_encoder.fit_transform(y_test)\n",
        "\n"
      ]
    },
    {
      "cell_type": "code",
      "execution_count": 13,
      "metadata": {
        "colab": {
          "base_uri": "https://localhost:8080/"
        },
        "id": "pd2xbgZ9K1ac",
        "outputId": "d698f728-b840-4eb1-b516-26661d7b67d5"
      },
      "outputs": [
        {
          "name": "stdout",
          "output_type": "stream",
          "text": [
            "--------------------------------------------------\n",
            "[ Decision tree classifier ]\n",
            "Accuracy: 0.9018997531394226\n",
            "Confusion matrix:\n",
            "[[5123  513]\n",
            " [ 401 3280]]\n",
            "Classification report:\n",
            "              precision    recall  f1-score   support\n",
            "\n",
            "           0       0.93      0.91      0.92      5636\n",
            "           1       0.86      0.89      0.88      3681\n",
            "\n",
            "    accuracy                           0.90      9317\n",
            "   macro avg       0.90      0.90      0.90      9317\n",
            "weighted avg       0.90      0.90      0.90      9317\n",
            "\n"
          ]
        }
      ],
      "source": [
        "# decision tree classifier\n",
        "\n",
        "tree = DecisionTreeClassifier()\n",
        "tree.fit(X_train, y_train)\n",
        "predictions = tree.predict(X_test)\n",
        "\n",
        "print('-'*50)\n",
        "print('[ Decision tree classifier ]')\n",
        "print(f'Accuracy: {accuracy_score(y_test, predictions)}')\n",
        "\n",
        "print('Confusion matrix:')\n",
        "cm = confusion_matrix(y_test, predictions)\n",
        "print(cm)\n",
        "\n",
        "print('Classification report:')\n",
        "print(classification_report(y_test, predictions))"
      ]
    },
    {
      "cell_type": "code",
      "execution_count": 15,
      "metadata": {
        "colab": {
          "base_uri": "https://localhost:8080/"
        },
        "id": "Bu_b6U_8Wof-",
        "outputId": "1b817618-f2a0-45d3-999c-0d59f5788494"
      },
      "outputs": [
        {
          "name": "stdout",
          "output_type": "stream",
          "text": [
            "--------------------------------------------------\n",
            "[Random Forest]\n",
            "Accuracy: 0.9505205538263389\n",
            "Confusion matrix:\n",
            "[[5439  197]\n",
            " [ 264 3417]]\n",
            "Classification report:\n",
            "              precision    recall  f1-score   support\n",
            "\n",
            "           0       0.95      0.97      0.96      5636\n",
            "           1       0.95      0.93      0.94      3681\n",
            "\n",
            "    accuracy                           0.95      9317\n",
            "   macro avg       0.95      0.95      0.95      9317\n",
            "weighted avg       0.95      0.95      0.95      9317\n",
            "\n"
          ]
        }
      ],
      "source": [
        "# random forest classifier\n",
        "random_forest = RandomForestClassifier(n_estimators=200, random_state=42, max_features=1000, n_jobs=-1)\n",
        "random_forest.fit(X_train, y_train)\n",
        "predictions = random_forest.predict(X_test)\n",
        "\n",
        "print('-'*50)\n",
        "print('[Random Forest]')\n",
        "print(f'Accuracy: {accuracy_score(y_test, predictions)}')\n",
        "\n",
        "print('Confusion matrix:')\n",
        "cm = confusion_matrix(y_test, predictions)\n",
        "print(cm)\n",
        "print('Classification report:')\n",
        "print(classification_report(y_test, predictions))\n"
      ]
    },
    {
      "cell_type": "code",
      "execution_count": 27,
      "metadata": {
        "colab": {
          "base_uri": "https://localhost:8080/",
          "height": 116
        },
        "id": "8eemQcVmZfHu",
        "outputId": "d2b15c30-6ac7-4484-c11b-786febacf9ef"
      },
      "outputs": [
        {
          "name": "stdout",
          "output_type": "stream",
          "text": [
            "--------------------------------------------------\n",
            "[Adaboost with Decision Tree]\n",
            "Accuracy: 0.9422560910164216\n",
            "Confusion matrix:\n",
            "[[5326  310]\n",
            " [ 228 3453]]\n",
            "Classification report:\n",
            "              precision    recall  f1-score   support\n",
            "\n",
            "           0       0.96      0.94      0.95      5636\n",
            "           1       0.92      0.94      0.93      3681\n",
            "\n",
            "    accuracy                           0.94      9317\n",
            "   macro avg       0.94      0.94      0.94      9317\n",
            "weighted avg       0.94      0.94      0.94      9317\n",
            "\n"
          ]
        }
      ],
      "source": [
        "tree = DecisionTreeClassifier(max_depth=5, random_state=42, min_samples_leaf=5, max_features=1000)\n",
        "ada_boost = AdaBoostClassifier(tree, n_estimators=200, random_state=42)\n",
        "ada_boost.fit(X_train, y_train)\n",
        "predictions = ada_boost.predict(X_test)\n",
        "\n",
        "print('-'*50)\n",
        "print('[Adaboost with Decision Tree]')\n",
        "print(f'Accuracy: {accuracy_score(y_test, predictions)}')\n",
        "\n",
        "print('Confusion matrix:')\n",
        "cm = confusion_matrix(y_test, predictions)\n",
        "print(cm)\n",
        "print('Classification report:')\n",
        "print(classification_report(y_test, predictions))"
      ]
    },
    {
      "cell_type": "code",
      "execution_count": 37,
      "metadata": {},
      "outputs": [
        {
          "name": "stdout",
          "output_type": "stream",
          "text": [
            "--------------------------------------------------\n",
            "[XGBoost]\n",
            "Accuracy: 0.9422560910164216\n",
            "Confusion matrix:\n",
            "[[5326  310]\n",
            " [ 228 3453]]\n",
            "Classification report:\n",
            "              precision    recall  f1-score   support\n",
            "\n",
            "           0       0.96      0.94      0.95      5636\n",
            "           1       0.92      0.94      0.93      3681\n",
            "\n",
            "    accuracy                           0.94      9317\n",
            "   macro avg       0.94      0.94      0.94      9317\n",
            "weighted avg       0.94      0.94      0.94      9317\n",
            "\n"
          ]
        }
      ],
      "source": [
        "xgb = XGBClassifier(n_estimators=200, max_depth=10, learning_rate=0.1, n_jobs=-1, colsample_bytree=0.2, nthread = -1,  random_state=42)\n",
        "xgb.fit(X_train, y_train)\n",
        "\n",
        "print('-'*50)\n",
        "print('[XGBoost]')\n",
        "print(f'Accuracy: {accuracy_score(y_test, predictions)}')\n",
        "\n",
        "print('Confusion matrix:')\n",
        "cm = confusion_matrix(y_test, predictions)\n",
        "print(cm)\n",
        "print('Classification report:')\n",
        "print(classification_report(y_test, predictions))"
      ]
    },
    {
      "cell_type": "code",
      "execution_count": 59,
      "metadata": {
        "colab": {
          "base_uri": "https://localhost:8080/"
        },
        "id": "NAkq4Xtqhzv2",
        "outputId": "7add49ca-b3e0-4968-effa-dd10fe143968"
      },
      "outputs": [
        {
          "name": "stdout",
          "output_type": "stream",
          "text": [
            "   Unnamed: 0                                         Email Text  \\\n",
            "0           0  re : 6 . 1100 , disc : uniformitarianism , re ...   \n",
            "1           1  the other side of * galicismos * * galicismo *...   \n",
            "2           2  re : equistar deal tickets are you still avail...   \n",
            "3           3  \\nHello I am your hot lil horny toy.\\n    I am...   \n",
            "4           4  software at incredibly low prices ( 86 % lower...   \n",
            "\n",
            "       Email Type  \n",
            "0      Safe Email  \n",
            "1      Safe Email  \n",
            "2      Safe Email  \n",
            "3  Phishing Email  \n",
            "4  Phishing Email  \n"
          ]
        }
      ],
      "source": [
        "data = pd.read_csv(r'datasets/phishing_emails/Phishing_Email.csv', encoding='latin-1')\n",
        "data.dropna(inplace=True)\n",
        "label_encoder = LabelEncoder()\n",
        "print(data.head())\n",
        "X2 = data['Email Text'].values\n",
        "y2 = data['Email Type'].values\n",
        "\n",
        "for i in range(len(y2)):\n",
        "  if y2[i] == 'Phishing Email':\n",
        "    y2[i] = 1\n",
        "  else:\n",
        "    y2[i] = 0\n",
        "\n",
        "X2_train, X2_test, y2_train, y2_test = train_test_split(X2, y2, test_size=0.2, random_state=42)\n",
        "\n",
        "# vectorize text data using tf-idf\n",
        "T_vectorizer = TfidfVectorizer()\n",
        "X2_train = T_vectorizer.fit_transform(X2_train)\n",
        "X2_test = T_vectorizer.transform(X2_test)\n",
        "y2_train = label_encoder.fit_transform(y2_train)\n",
        "y2_test = label_encoder.fit_transform(y2_test)\n"
      ]
    },
    {
      "cell_type": "code",
      "execution_count": 43,
      "metadata": {
        "colab": {
          "base_uri": "https://localhost:8080/"
        },
        "id": "mIQpTzQjkACv",
        "outputId": "374ce45c-2f29-4141-884c-5118de98b607"
      },
      "outputs": [
        {
          "name": "stdout",
          "output_type": "stream",
          "text": [
            "--------------------------------------------------\n",
            "[Decision Tree]\n",
            "Accuracy: 0.87828418230563\n",
            "Confusion matrix:\n",
            "[[7970 1071]\n",
            " [ 745 5134]]\n",
            "Classification report:\n",
            "              precision    recall  f1-score   support\n",
            "\n",
            "           0       0.91      0.88      0.90      9041\n",
            "           1       0.83      0.87      0.85      5879\n",
            "\n",
            "    accuracy                           0.88     14920\n",
            "   macro avg       0.87      0.88      0.87     14920\n",
            "weighted avg       0.88      0.88      0.88     14920\n",
            "\n"
          ]
        }
      ],
      "source": [
        "tree2 = DecisionTreeClassifier()\n",
        "tree2.fit(X2_train, y2_train)\n",
        "predictions = tree2.predict(X2_test)\n",
        "\n",
        "print('-'*50)\n",
        "print('[Decision Tree]')\n",
        "print(f'Accuracy: {accuracy_score(y2_test, predictions)}')\n",
        "print('Confusion matrix:')\n",
        "cm = confusion_matrix(y2_test, predictions)\n",
        "print(cm)\n",
        "print('Classification report:')\n",
        "print(classification_report(y2_test, predictions))\n"
      ]
    },
    {
      "cell_type": "code",
      "execution_count": 44,
      "metadata": {
        "colab": {
          "base_uri": "https://localhost:8080/"
        },
        "id": "s3AOFJ-ti_eT",
        "outputId": "ceea387a-8fd7-4b28-8a2e-f651d1790738"
      },
      "outputs": [
        {
          "name": "stdout",
          "output_type": "stream",
          "text": [
            "--------------------------------------------------\n",
            "[Random Forest]\n",
            "Accuracy 0.9476541554959785\n",
            "Confusion matrix:\n",
            "[[8664  377]\n",
            " [ 404 5475]]\n",
            "Classification report:\n",
            "              precision    recall  f1-score   support\n",
            "\n",
            "           0       0.96      0.96      0.96      9041\n",
            "           1       0.94      0.93      0.93      5879\n",
            "\n",
            "    accuracy                           0.95     14920\n",
            "   macro avg       0.95      0.94      0.95     14920\n",
            "weighted avg       0.95      0.95      0.95     14920\n",
            "\n"
          ]
        }
      ],
      "source": [
        "# random forest classifier\n",
        "random_forest2 = RandomForestClassifier(n_estimators=200, random_state=42, max_features=1000, n_jobs=-1)\n",
        "random_forest2.fit(X2_train, y2_train)\n",
        "predictions = random_forest2.predict(X2_test)\n",
        "\n",
        "print('-'*50)\n",
        "print('[Random Forest]')\n",
        "print(f'Accuracy {accuracy_score(y2_test, predictions)}')\n",
        "\n",
        "print('Confusion matrix:')\n",
        "cm = confusion_matrix(y2_test, predictions)\n",
        "print(cm)\n",
        "\n",
        "print('Classification report:')\n",
        "print(classification_report(y2_test, predictions))"
      ]
    },
    {
      "cell_type": "code",
      "execution_count": 71,
      "metadata": {
        "colab": {
          "base_uri": "https://localhost:8080/",
          "height": 397
        },
        "id": "Zp1JO6dOkGc_",
        "outputId": "24a8a958-eba3-40e6-de1b-74a834240d9e"
      },
      "outputs": [
        {
          "name": "stdout",
          "output_type": "stream",
          "text": [
            "[AdaBoost]\n",
            "Accuracy: 0.9568364611260054\n",
            "Confusion matrix:\n",
            "[[2184   89]\n",
            " [  72 1385]]\n",
            "Classification report:\n",
            "              precision    recall  f1-score   support\n",
            "\n",
            "           0       0.97      0.96      0.96      2273\n",
            "           1       0.94      0.95      0.95      1457\n",
            "\n",
            "    accuracy                           0.96      3730\n",
            "   macro avg       0.95      0.96      0.95      3730\n",
            "weighted avg       0.96      0.96      0.96      3730\n",
            "\n"
          ]
        }
      ],
      "source": [
        "tree2 = DecisionTreeClassifier(max_depth=3, random_state=42, min_samples_leaf=5, max_features=1000)\n",
        "ada_boost2 = AdaBoostClassifier(tree2, n_estimators=400, random_state=42)\n",
        "ada_boost2.fit(X2_train, y2_train)\n",
        "predictions = ada_boost2.predict(X2_test)\n",
        "\n",
        "print('[AdaBoost]')\n",
        "print(f'Accuracy: {accuracy_score(y2_test, predictions)}')\n",
        "\n",
        "print('Confusion matrix:')\n",
        "cm = confusion_matrix(y2_test, predictions)\n",
        "print(cm)\n",
        "print('Classification report:')\n",
        "print(classification_report(y2_test, predictions))"
      ]
    },
    {
      "cell_type": "code",
      "execution_count": 70,
      "metadata": {
        "colab": {
          "base_uri": "https://localhost:8080/",
          "height": 397
        },
        "id": "I2cD6PGitGC-",
        "outputId": "3e22f234-1851-4ca0-e923-952e75ce63a3"
      },
      "outputs": [
        {
          "name": "stdout",
          "output_type": "stream",
          "text": [
            "[Bagging]\n",
            "Accuracy: 0.8477211796246649\n",
            "Confusion matrix:\n",
            "[[2269    4]\n",
            " [ 564  893]]\n",
            "Classification report:\n",
            "              precision    recall  f1-score   support\n",
            "\n",
            "           0       0.80      1.00      0.89      2273\n",
            "           1       1.00      0.61      0.76      1457\n",
            "\n",
            "    accuracy                           0.85      3730\n",
            "   macro avg       0.90      0.81      0.82      3730\n",
            "weighted avg       0.88      0.85      0.84      3730\n",
            "\n"
          ]
        }
      ],
      "source": [
        "tree2 = DecisionTreeClassifier(max_features=1000, max_depth=10)\n",
        "bagging = BaggingClassifier(tree2, n_estimators=400, random_state=42)\n",
        "bagging.fit(X2_train, y2_train)\n",
        "predictions = bagging.predict(X2_test)\n",
        "\n",
        "print('[Bagging]')\n",
        "print(f'Accuracy: {accuracy_score(y2_test, predictions)}')\n",
        "print('Confusion matrix:')\n",
        "cm = confusion_matrix(y2_test, predictions)\n",
        "print(cm)\n",
        "print('Classification report:')\n",
        "print(classification_report(y2_test, predictions))"
      ]
    },
    {
      "cell_type": "code",
      "execution_count": 57,
      "metadata": {
        "id": "zd6nmycn4sem",
        "outputId": "8bfada65-f688-4a1f-e5b7-420121b333b8"
      },
      "outputs": [
        {
          "name": "stdout",
          "output_type": "stream",
          "text": [
            "--------------------------------------------------\n",
            "[Gradient Boosting]\n",
            "Accuracy: 0.9217158176943699\n",
            "Confusion matrix:\n",
            "[[8369  672]\n",
            " [ 496 5383]]\n",
            "Classification report:\n",
            "              precision    recall  f1-score   support\n",
            "\n",
            "           0       0.94      0.93      0.93      9041\n",
            "           1       0.89      0.92      0.90      5879\n",
            "\n",
            "    accuracy                           0.92     14920\n",
            "   macro avg       0.92      0.92      0.92     14920\n",
            "weighted avg       0.92      0.92      0.92     14920\n",
            "\n"
          ]
        }
      ],
      "source": [
        "gbrt = GradientBoostingClassifier(n_estimators=100, learning_rate=1.0, random_state=42)\n",
        "gbrt.fit(X2_train, y2_train)\n",
        "predictions = gbrt.predict(X2_test)\n",
        "\n",
        "print('-'*50)\n",
        "print('[Gradient Boosting]')\n",
        "print(f'Accuracy: {accuracy_score(y2_test, predictions)}')\n",
        "\n",
        "print('Confusion matrix:')\n",
        "cm = confusion_matrix(y2_test, predictions)\n",
        "print(cm)\n",
        "print('Classification report:')\n",
        "print(classification_report(y2_test, predictions))"
      ]
    },
    {
      "cell_type": "code",
      "execution_count": 66,
      "metadata": {},
      "outputs": [
        {
          "name": "stdout",
          "output_type": "stream",
          "text": [
            "--------------------------------------------------\n",
            "[XGBoost]\n",
            "Accuracy: 0.9646112600536193\n",
            "Confusion matrix:\n",
            "[[2186   87]\n",
            " [  45 1412]]\n",
            "Classification report:\n",
            "              precision    recall  f1-score   support\n",
            "\n",
            "           0       0.98      0.96      0.97      2273\n",
            "           1       0.94      0.97      0.96      1457\n",
            "\n",
            "    accuracy                           0.96      3730\n",
            "   macro avg       0.96      0.97      0.96      3730\n",
            "weighted avg       0.97      0.96      0.96      3730\n",
            "\n"
          ]
        }
      ],
      "source": [
        "xgb = XGBClassifier(n_estimators=400, learning_rate=0.5, random_state=42, n_jobs=-1, max_depth=2, colsample_bytree=0.2)\n",
        "xgb.fit(X2_train, y2_train)\n",
        "predictions = xgb.predict(X2_test)\n",
        "\n",
        "print('-'*50)\n",
        "print('[XGBoost]')\n",
        "print(f'Accuracy: {accuracy_score(y2_test, predictions)}')\n",
        "\n",
        "print('Confusion matrix:')\n",
        "cm = confusion_matrix(y2_test, predictions)\n",
        "print(cm)\n",
        "print('Classification report:')\n",
        "print(classification_report(y2_test, predictions))"
      ]
    },
    {
      "cell_type": "code",
      "execution_count": 75,
      "metadata": {},
      "outputs": [
        {
          "name": "stdout",
          "output_type": "stream",
          "text": [
            "[0.9694206008583691, 0.9624463519313304, 0.9694206008583691, 0.971030042918455, 0.9651100375738056, 0.964573268921095, 0.9688674181427804, 0.9688674181427804, 0.9753086419753086, 0.9667203435319377]\n",
            "Average accuracy:  0.9681764724854232\n"
          ]
        }
      ],
      "source": [
        "# Final k-fold experiment using XGBoost\n",
        "data = pd.read_csv(r'datasets/phishing_emails/Phishing_Email.csv', encoding='latin-1')\n",
        "data.dropna(inplace=True)\n",
        "\n",
        "label_encoder = LabelEncoder()\n",
        "T_vectorizer = TfidfVectorizer()\n",
        "\n",
        "X3 = data['Email Text'].values\n",
        "y3 = data['Email Type'].values\n",
        "\n",
        "for i in range(len(y3)):\n",
        "  if y3[i] == 'Phishing Email':\n",
        "    y3[i] = 1\n",
        "  else:\n",
        "    y3[i] = 0\n",
        "\n",
        "X3 = T_vectorizer.fit_transform(X3)\n",
        "y3 = label_encoder.fit_transform(y3)\n",
        "\n",
        "num_folds = 10\n",
        "kfold = KFold(n_splits=num_folds, shuffle=True, random_state=42)\n",
        "\n",
        "fold_acc = []\n",
        "\n",
        "for train_index, val_index in kfold.split(X3):\n",
        "\n",
        "  X3_train, X3_val = X3[train_index], X3[val_index]\n",
        "  y3_train, y3_val = y3[train_index], y3[val_index]\n",
        "\n",
        "  model = XGBClassifier(n_estimators=400, learning_rate=0.5, random_state=42, n_jobs=-1, max_depth=2, colsample_bytree=0.2, nthread=-1)\n",
        "  model.fit(X3_train, y3_train)\n",
        "\n",
        "  y3_pred = model.predict(X3_val)\n",
        "  acc = accuracy_score(y3_val, y3_pred)\n",
        "  fold_acc.append(acc)\n",
        "\n",
        "print(fold_acc)\n",
        "\n",
        "print('Average accuracy: ', sum(fold_acc)/len(fold_acc))\n",
        "\n",
        "\n",
        "\n",
        "\n"
      ]
    }
  ],
  "metadata": {
    "colab": {
      "provenance": []
    },
    "kernelspec": {
      "display_name": "Python 3",
      "name": "python3"
    },
    "language_info": {
      "codemirror_mode": {
        "name": "ipython",
        "version": 3
      },
      "file_extension": ".py",
      "mimetype": "text/x-python",
      "name": "python",
      "nbconvert_exporter": "python",
      "pygments_lexer": "ipython3",
      "version": "3.10.6"
    }
  },
  "nbformat": 4,
  "nbformat_minor": 0
}
