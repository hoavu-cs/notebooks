{
  "cells": [
    {
      "cell_type": "code",
      "execution_count": 1,
      "metadata": {
        "id": "ajtA8sHYXBMF"
      },
      "outputs": [],
      "source": [
        "import pandas as pd\n",
        "import numpy as np\n",
        "from sklearn.tree import DecisionTreeClassifier\n",
        "from sklearn.feature_extraction.text import CountVectorizer, TfidfVectorizer\n",
        "from sklearn.impute import SimpleImputer\n",
        "from sklearn.preprocessing import OneHotEncoder\n",
        "from sklearn.metrics import accuracy_score\n",
        "from sklearn.metrics import confusion_matrix\n",
        "from sklearn.ensemble import RandomForestClassifier, BaggingClassifier, GradientBoostingClassifier\n",
        "from sklearn.model_selection import train_test_split\n",
        "from sklearn.preprocessing import LabelEncoder\n",
        "from sklearn.feature_extraction.text import TfidfVectorizer\n",
        "from sklearn.ensemble import AdaBoostClassifier\n",
        "from sklearn.metrics import accuracy_score, confusion_matrix, classification_report\n",
        "from xgboost import XGBClassifier"
      ]
    },
    {
      "cell_type": "code",
      "execution_count": null,
      "metadata": {
        "colab": {
          "base_uri": "https://localhost:8080/"
        },
        "id": "N2cnVom2H2tS",
        "outputId": "d40a3f8b-deb2-4968-862d-e14c68a4c16e"
      },
      "outputs": [
        {
          "name": "stdout",
          "output_type": "stream",
          "text": [
            "   Unnamed: 0                                         Email Text  \\\n",
            "0           0  re : 6 . 1100 , disc : uniformitarianism , re ...   \n",
            "1           1  the other side of * galicismos * * galicismo *...   \n",
            "2           2  re : equistar deal tickets are you still avail...   \n",
            "3           3  \\nHello I am your hot lil horny toy.\\n    I am...   \n",
            "4           4  software at incredibly low prices ( 86 % lower...   \n",
            "\n",
            "       Email Type  \n",
            "0      Safe Email  \n",
            "1      Safe Email  \n",
            "2      Safe Email  \n",
            "3  Phishing Email  \n",
            "4  Phishing Email  \n"
          ]
        }
      ],
      "source": [
        "# read in data\n",
        "data = pd.read_csv(r'Phishing_Email.csv', encoding='latin-1')\n",
        "print(data.head())\n",
        "\n",
        "# replace NaN values\n",
        "data.dropna(inplace=True)\n",
        "\n",
        "\n",
        "# One-hot encode the labels\n",
        "#ohe = OneHotEncoder(sparse_output=False)\n",
        "#y = ohe.fit_transform(data[['Email Type']])\n",
        "\n",
        "# vectorize text data and put labels in the right format\n",
        "vectorizer = CountVectorizer()\n",
        "y = data['Email Type'].values\n",
        "for i in range(len(y)):\n",
        "  if y[i] == 'Phishing Email':\n",
        "    y[i] = 1\n",
        "  else:\n",
        "    y[i] = 0\n",
        "\n",
        "X = data['Email Text'].values\n",
        "X = vectorizer.fit_transform(X)\n",
        "\n",
        "# Split train an test data\n",
        "X_train, X_test, y_train, y_test = train_test_split(X, y, test_size=0.2, random_state=42)\n",
        "label_encoder = LabelEncoder()\n",
        "y_train = label_encoder.fit_transform(y_train)\n",
        "y_test = label_encoder.fit_transform(y_test)\n",
        "\n"
      ]
    },
    {
      "cell_type": "code",
      "execution_count": null,
      "metadata": {
        "id": "3YNAz__Q4seg"
      },
      "outputs": [],
      "source": []
    },
    {
      "cell_type": "code",
      "execution_count": null,
      "metadata": {
        "colab": {
          "base_uri": "https://localhost:8080/"
        },
        "id": "pd2xbgZ9K1ac",
        "outputId": "d698f728-b840-4eb1-b516-26661d7b67d5"
      },
      "outputs": [
        {
          "name": "stdout",
          "output_type": "stream",
          "text": [
            "The accuracy on a single decision tree is 0.9160857908847185\n",
            "Confusion matrix:\n",
            "[[2087  186]\n",
            " [ 127 1330]]\n"
          ]
        }
      ],
      "source": [
        "tree = DecisionTreeClassifier()\n",
        "tree.fit(X_train, y_train)\n",
        "\n",
        "predictions = tree.predict(X_test)\n",
        "print(f'The accuracy on a single decision tree is {accuracy_score(y_test, predictions)}')\n",
        "\n",
        "print('Confusion matrix:')\n",
        "cm = confusion_matrix(y_test, predictions)\n",
        "print(cm)"
      ]
    },
    {
      "cell_type": "code",
      "execution_count": null,
      "metadata": {
        "colab": {
          "base_uri": "https://localhost:8080/"
        },
        "id": "Bu_b6U_8Wof-",
        "outputId": "1b817618-f2a0-45d3-999c-0d59f5788494"
      },
      "outputs": [
        {
          "name": "stdout",
          "output_type": "stream",
          "text": [
            "The accuracy on a random forest is 0.9624664879356568\n",
            "Confusion matrix:\n",
            "[[1120   33]\n",
            " [  37  675]]\n",
            "Classification report:\n",
            "              precision    recall  f1-score   support\n",
            "\n",
            "           0       0.97      0.97      0.97      1153\n",
            "           1       0.95      0.95      0.95       712\n",
            "\n",
            "    accuracy                           0.96      1865\n",
            "   macro avg       0.96      0.96      0.96      1865\n",
            "weighted avg       0.96      0.96      0.96      1865\n",
            "\n"
          ]
        }
      ],
      "source": [
        "# random forest classifier\n",
        "random_forest = RandomForestClassifier(n_estimators=100, random_state=42, max_features=2000, n_jobs=-1)\n",
        "random_forest.fit(X_train, y_train)\n",
        "\n",
        "predictions = random_forest.predict(X_test)\n",
        "print(f'The accuracy on a random forest is {accuracy_score(y_test, predictions)}')\n",
        "\n",
        "print('Confusion matrix:')\n",
        "cm = confusion_matrix(y_test, predictions)\n",
        "print(cm)\n",
        "print('Classification report:')\n",
        "print(classification_report(y_test, predictions))\n"
      ]
    },
    {
      "cell_type": "code",
      "execution_count": null,
      "metadata": {
        "colab": {
          "base_uri": "https://localhost:8080/",
          "height": 116
        },
        "id": "8eemQcVmZfHu",
        "outputId": "d2b15c30-6ac7-4484-c11b-786febacf9ef"
      },
      "outputs": [
        {
          "data": {
            "text/html": [
              "<style>#sk-container-id-1 {color: black;background-color: white;}#sk-container-id-1 pre{padding: 0;}#sk-container-id-1 div.sk-toggleable {background-color: white;}#sk-container-id-1 label.sk-toggleable__label {cursor: pointer;display: block;width: 100%;margin-bottom: 0;padding: 0.3em;box-sizing: border-box;text-align: center;}#sk-container-id-1 label.sk-toggleable__label-arrow:before {content: \"▸\";float: left;margin-right: 0.25em;color: #696969;}#sk-container-id-1 label.sk-toggleable__label-arrow:hover:before {color: black;}#sk-container-id-1 div.sk-estimator:hover label.sk-toggleable__label-arrow:before {color: black;}#sk-container-id-1 div.sk-toggleable__content {max-height: 0;max-width: 0;overflow: hidden;text-align: left;background-color: #f0f8ff;}#sk-container-id-1 div.sk-toggleable__content pre {margin: 0.2em;color: black;border-radius: 0.25em;background-color: #f0f8ff;}#sk-container-id-1 input.sk-toggleable__control:checked~div.sk-toggleable__content {max-height: 200px;max-width: 100%;overflow: auto;}#sk-container-id-1 input.sk-toggleable__control:checked~label.sk-toggleable__label-arrow:before {content: \"▾\";}#sk-container-id-1 div.sk-estimator input.sk-toggleable__control:checked~label.sk-toggleable__label {background-color: #d4ebff;}#sk-container-id-1 div.sk-label input.sk-toggleable__control:checked~label.sk-toggleable__label {background-color: #d4ebff;}#sk-container-id-1 input.sk-hidden--visually {border: 0;clip: rect(1px 1px 1px 1px);clip: rect(1px, 1px, 1px, 1px);height: 1px;margin: -1px;overflow: hidden;padding: 0;position: absolute;width: 1px;}#sk-container-id-1 div.sk-estimator {font-family: monospace;background-color: #f0f8ff;border: 1px dotted black;border-radius: 0.25em;box-sizing: border-box;margin-bottom: 0.5em;}#sk-container-id-1 div.sk-estimator:hover {background-color: #d4ebff;}#sk-container-id-1 div.sk-parallel-item::after {content: \"\";width: 100%;border-bottom: 1px solid gray;flex-grow: 1;}#sk-container-id-1 div.sk-label:hover label.sk-toggleable__label {background-color: #d4ebff;}#sk-container-id-1 div.sk-serial::before {content: \"\";position: absolute;border-left: 1px solid gray;box-sizing: border-box;top: 0;bottom: 0;left: 50%;z-index: 0;}#sk-container-id-1 div.sk-serial {display: flex;flex-direction: column;align-items: center;background-color: white;padding-right: 0.2em;padding-left: 0.2em;position: relative;}#sk-container-id-1 div.sk-item {position: relative;z-index: 1;}#sk-container-id-1 div.sk-parallel {display: flex;align-items: stretch;justify-content: center;background-color: white;position: relative;}#sk-container-id-1 div.sk-item::before, #sk-container-id-1 div.sk-parallel-item::before {content: \"\";position: absolute;border-left: 1px solid gray;box-sizing: border-box;top: 0;bottom: 0;left: 50%;z-index: -1;}#sk-container-id-1 div.sk-parallel-item {display: flex;flex-direction: column;z-index: 1;position: relative;background-color: white;}#sk-container-id-1 div.sk-parallel-item:first-child::after {align-self: flex-end;width: 50%;}#sk-container-id-1 div.sk-parallel-item:last-child::after {align-self: flex-start;width: 50%;}#sk-container-id-1 div.sk-parallel-item:only-child::after {width: 0;}#sk-container-id-1 div.sk-dashed-wrapped {border: 1px dashed gray;margin: 0 0.4em 0.5em 0.4em;box-sizing: border-box;padding-bottom: 0.4em;background-color: white;}#sk-container-id-1 div.sk-label label {font-family: monospace;font-weight: bold;display: inline-block;line-height: 1.2em;}#sk-container-id-1 div.sk-label-container {text-align: center;}#sk-container-id-1 div.sk-container {/* jupyter's `normalize.less` sets `[hidden] { display: none; }` but bootstrap.min.css set `[hidden] { display: none !important; }` so we also need the `!important` here to be able to override the default hidden behavior on the sphinx rendered scikit-learn.org. See: https://github.com/scikit-learn/scikit-learn/issues/21755 */display: inline-block !important;position: relative;}#sk-container-id-1 div.sk-text-repr-fallback {display: none;}</style><div id=\"sk-container-id-1\" class=\"sk-top-container\"><div class=\"sk-text-repr-fallback\"><pre>AdaBoostClassifier(base_estimator=DecisionTreeClassifier(), n_estimators=20,\n",
              "                   random_state=42)</pre><b>In a Jupyter environment, please rerun this cell to show the HTML representation or trust the notebook. <br />On GitHub, the HTML representation is unable to render, please try loading this page with nbviewer.org.</b></div><div class=\"sk-container\" hidden><div class=\"sk-item sk-dashed-wrapped\"><div class=\"sk-label-container\"><div class=\"sk-label sk-toggleable\"><input class=\"sk-toggleable__control sk-hidden--visually\" id=\"sk-estimator-id-1\" type=\"checkbox\" ><label for=\"sk-estimator-id-1\" class=\"sk-toggleable__label sk-toggleable__label-arrow\">AdaBoostClassifier</label><div class=\"sk-toggleable__content\"><pre>AdaBoostClassifier(base_estimator=DecisionTreeClassifier(), n_estimators=20,\n",
              "                   random_state=42)</pre></div></div></div><div class=\"sk-parallel\"><div class=\"sk-parallel-item\"><div class=\"sk-item\"><div class=\"sk-label-container\"><div class=\"sk-label sk-toggleable\"><input class=\"sk-toggleable__control sk-hidden--visually\" id=\"sk-estimator-id-2\" type=\"checkbox\" ><label for=\"sk-estimator-id-2\" class=\"sk-toggleable__label sk-toggleable__label-arrow\">base_estimator: DecisionTreeClassifier</label><div class=\"sk-toggleable__content\"><pre>DecisionTreeClassifier()</pre></div></div></div><div class=\"sk-serial\"><div class=\"sk-item\"><div class=\"sk-estimator sk-toggleable\"><input class=\"sk-toggleable__control sk-hidden--visually\" id=\"sk-estimator-id-3\" type=\"checkbox\" ><label for=\"sk-estimator-id-3\" class=\"sk-toggleable__label sk-toggleable__label-arrow\">DecisionTreeClassifier</label><div class=\"sk-toggleable__content\"><pre>DecisionTreeClassifier()</pre></div></div></div></div></div></div></div></div></div></div>"
            ],
            "text/plain": [
              "AdaBoostClassifier(base_estimator=DecisionTreeClassifier(), n_estimators=20,\n",
              "                   random_state=42)"
            ]
          },
          "execution_count": 10,
          "metadata": {},
          "output_type": "execute_result"
        }
      ],
      "source": [
        "ada_boost = AdaBoostClassifier(tree, n_estimators=20, random_state=42)\n",
        "ada_boost.fit(X_train, y_train)"
      ]
    },
    {
      "cell_type": "code",
      "execution_count": null,
      "metadata": {
        "colab": {
          "base_uri": "https://localhost:8080/"
        },
        "id": "AiCzkZjVhDK8",
        "outputId": "ea3c0939-3dfa-46d9-abac-1f86fceb4cd4"
      },
      "outputs": [
        {
          "name": "stdout",
          "output_type": "stream",
          "text": [
            "accuracy: 0.9560321715817695\n"
          ]
        }
      ],
      "source": [
        "predictions = ada_boost.predict(X_test)\n",
        "print(f'accuracy: {accuracy_score(y_test, predictions)}')"
      ]
    },
    {
      "cell_type": "code",
      "execution_count": 3,
      "metadata": {
        "colab": {
          "base_uri": "https://localhost:8080/"
        },
        "id": "NAkq4Xtqhzv2",
        "outputId": "7add49ca-b3e0-4968-effa-dd10fe143968"
      },
      "outputs": [
        {
          "name": "stdout",
          "output_type": "stream",
          "text": [
            "   Unnamed: 0                                         Email Text  \\\n",
            "0           0  re : 6 . 1100 , disc : uniformitarianism , re ...   \n",
            "1           1  the other side of * galicismos * * galicismo *...   \n",
            "2           2  re : equistar deal tickets are you still avail...   \n",
            "3           3  \\nHello I am your hot lil horny toy.\\n    I am...   \n",
            "4           4  software at incredibly low prices ( 86 % lower...   \n",
            "\n",
            "       Email Type  \n",
            "0      Safe Email  \n",
            "1      Safe Email  \n",
            "2      Safe Email  \n",
            "3  Phishing Email  \n",
            "4  Phishing Email  \n",
            "(14920,)\n",
            "(3730,)\n"
          ]
        }
      ],
      "source": [
        "data = pd.read_csv(r'datasets/phishing_emails/Phishing_Email.csv', encoding='latin-1')\n",
        "data.fillna(' ', inplace=True)\n",
        "label_encoder = LabelEncoder()\n",
        "print(data.head())\n",
        "X2 = data['Email Text'].values\n",
        "y2 = data['Email Type'].values\n",
        "\n",
        "for i in range(len(y2)):\n",
        "  if y2[i] == 'Phishing Email':\n",
        "    y2[i] = 1\n",
        "  else:\n",
        "    y2[i] = 0\n",
        "\n",
        "X2_train, X2_test, y2_train, y2_test = train_test_split(X2, y2, test_size=0.2, random_state=42)\n",
        "\n",
        "\n",
        "T_vectorizer = TfidfVectorizer()\n",
        "X2_train = T_vectorizer.fit_transform(X2_train)\n",
        "X2_test = T_vectorizer.transform(X2_test)\n",
        "y2_train = label_encoder.fit_transform(y2_train)\n",
        "y2_test = label_encoder.fit_transform(y2_test)\n",
        "\n",
        "print(y2_train.shape)\n",
        "print(y2_test.shape)\n",
        "\n",
        "\n"
      ]
    },
    {
      "cell_type": "code",
      "execution_count": null,
      "metadata": {
        "colab": {
          "base_uri": "https://localhost:8080/"
        },
        "id": "mIQpTzQjkACv",
        "outputId": "374ce45c-2f29-4141-884c-5118de98b607"
      },
      "outputs": [
        {
          "name": "stdout",
          "output_type": "stream",
          "text": [
            "The accuracy on a single decision tree is 0.9179624664879357\n",
            "Confusion matrix:\n",
            "[[1071   82]\n",
            " [  71  641]]\n"
          ]
        }
      ],
      "source": [
        "tree2 = DecisionTreeClassifier()\n",
        "tree2.fit(X2_train, y2_train)\n",
        "\n",
        "predictions = tree2.predict(X2_test)\n",
        "print(f'The accuracy on a single decision tree is {accuracy_score(y2_test, predictions)}')\n",
        "\n",
        "print('Confusion matrix:')\n",
        "cm = confusion_matrix(y2_test, predictions)\n",
        "print(cm)\n"
      ]
    },
    {
      "cell_type": "code",
      "execution_count": null,
      "metadata": {
        "colab": {
          "base_uri": "https://localhost:8080/"
        },
        "id": "s3AOFJ-ti_eT",
        "outputId": "ceea387a-8fd7-4b28-8a2e-f651d1790738"
      },
      "outputs": [
        {
          "name": "stdout",
          "output_type": "stream",
          "text": [
            "The accuracy on a random forest is 0.9597855227882037\n",
            "Confusion matrix:\n",
            "[[1121   32]\n",
            " [  43  669]]\n",
            "Classification report:\n",
            "              precision    recall  f1-score   support\n",
            "\n",
            "           0       0.96      0.97      0.97      1153\n",
            "           1       0.95      0.94      0.95       712\n",
            "\n",
            "    accuracy                           0.96      1865\n",
            "   macro avg       0.96      0.96      0.96      1865\n",
            "weighted avg       0.96      0.96      0.96      1865\n",
            "\n"
          ]
        }
      ],
      "source": [
        "# random forest classifier\n",
        "random_forest2 = RandomForestClassifier(n_estimators=100, random_state=42, max_features=1000)\n",
        "random_forest2.fit(X2_train, y2_train)\n",
        "\n",
        "predictions = random_forest2.predict(X2_test)\n",
        "print(f'The accuracy on a random forest is {accuracy_score(y2_test, predictions)}')\n",
        "\n",
        "print('Confusion matrix:')\n",
        "cm = confusion_matrix(y2_test, predictions)\n",
        "print(cm)\n",
        "\n",
        "print('Classification report:')\n",
        "print(classification_report(y2_test, predictions))"
      ]
    },
    {
      "cell_type": "code",
      "execution_count": null,
      "metadata": {
        "colab": {
          "base_uri": "https://localhost:8080/",
          "height": 397
        },
        "id": "Zp1JO6dOkGc_",
        "outputId": "24a8a958-eba3-40e6-de1b-74a834240d9e"
      },
      "outputs": [
        {
          "name": "stdout",
          "output_type": "stream",
          "text": [
            "The accuracy of Adaboost is: 0.9439678284182306\n",
            "Confusion matrix:\n",
            "[[2154  119]\n",
            " [  90 1367]]\n"
          ]
        }
      ],
      "source": [
        "tree2 = DecisionTreeClassifier(max_features=500, max_depth=3)\n",
        "ada_boost2 = AdaBoostClassifier(tree2, n_estimators=200, random_state=42)\n",
        "ada_boost2.fit(X2_train, y2_train)\n",
        "\n",
        "predictions = ada_boost2.predict(X2_test)\n",
        "print(f'The accuracy of Adaboost is: {accuracy_score(y2_test, predictions)}')\n",
        "\n",
        "print('Confusion matrix:')\n",
        "cm = confusion_matrix(y2_test, predictions)\n",
        "print(cm)"
      ]
    },
    {
      "cell_type": "code",
      "execution_count": null,
      "metadata": {
        "colab": {
          "base_uri": "https://localhost:8080/",
          "height": 397
        },
        "id": "I2cD6PGitGC-",
        "outputId": "3e22f234-1851-4ca0-e923-952e75ce63a3"
      },
      "outputs": [
        {
          "name": "stdout",
          "output_type": "stream",
          "text": [
            "The accuracy of Bagging is: 0.8616621983914209\n",
            "Confusion matrix:\n",
            "[[2265    8]\n",
            " [ 508  949]]\n"
          ]
        }
      ],
      "source": [
        "tree2 = DecisionTreeClassifier(max_features=500, max_depth=20)\n",
        "bagging = BaggingClassifier(tree2, n_estimators=100, random_state=42)\n",
        "bagging.fit(X2_train, y2_train)\n",
        "\n",
        "predictions = bagging.predict(X2_test)\n",
        "print(f'The accuracy of Bagging is: {accuracy_score(y2_test, predictions)}')\n",
        "\n",
        "print('Confusion matrix:')\n",
        "cm = confusion_matrix(y2_test, predictions)\n",
        "print(cm)"
      ]
    },
    {
      "cell_type": "code",
      "execution_count": null,
      "metadata": {
        "id": "zd6nmycn4sem",
        "outputId": "8bfada65-f688-4a1f-e5b7-420121b333b8"
      },
      "outputs": [
        {
          "name": "stdout",
          "output_type": "stream",
          "text": [
            "The accuracy of Gradient Boosting is: 0.9394101876675603\n",
            "Confusion matrix:\n",
            "[[2145  128]\n",
            " [  98 1359]]\n"
          ]
        }
      ],
      "source": [
        "gbrt = GradientBoostingClassifier(n_estimators=100, learning_rate=1.0, random_state=42)\n",
        "gbrt.fit(X2_train, y2_train)\n",
        "\n",
        "predictions = gbrt.predict(X2_test)\n",
        "print(f'The accuracy of Gradient Boosting is: {accuracy_score(y2_test, predictions)}')\n",
        "\n",
        "print('Confusion matrix:')\n",
        "cm = confusion_matrix(y2_test, predictions)\n",
        "print(cm)"
      ]
    }
  ],
  "metadata": {
    "colab": {
      "provenance": []
    },
    "kernelspec": {
      "display_name": "Python 3",
      "name": "python3"
    },
    "language_info": {
      "codemirror_mode": {
        "name": "ipython",
        "version": 3
      },
      "file_extension": ".py",
      "mimetype": "text/x-python",
      "name": "python",
      "nbconvert_exporter": "python",
      "pygments_lexer": "ipython3",
      "version": "3.10.6"
    }
  },
  "nbformat": 4,
  "nbformat_minor": 0
}
